{
 "cells": [
  {
   "cell_type": "code",
   "execution_count": 16,
   "id": "947830bc",
   "metadata": {
    "scrolled": true
   },
   "outputs": [
    {
     "name": "stderr",
     "output_type": "stream",
     "text": [
      "C:\\ProgramData\\Anaconda3\\lib\\site-packages\\IPython\\core\\interactiveshell.py:3165: DtypeWarning: Columns (25,28,29,30,36,39,41,42) have mixed types.Specify dtype option on import or set low_memory=False.\n",
      "  has_raised = await self.run_ast_nodes(code_ast.body, cell_name,\n"
     ]
    }
   ],
   "source": [
    "import pandas as pd\n",
    "import matplotlib as mpl\n",
    "import datetime\n",
    "from datetime import date\n",
    "import holidays\n",
    "import matplotlib.pyplot as plt\n",
    "\n",
    "closed=pd.read_csv('C:/Users/USER/Downloads/서울특별시 일반음식점 인허가 정보.csv', encoding='CP949', parse_dates=['인허가일자','폐업일자'])"
   ]
  },
  {
   "cell_type": "code",
   "execution_count": null,
   "id": "abe62d9b",
   "metadata": {},
   "outputs": [],
   "source": [
    "closed=closed.drop(['전화번호','총인원','건물소유구분명','홈페이지','재개업일자',\n",
    "                    '휴업종료일자','휴업시작일자','인허가취소일자',\n",
    "                    '전통업소주된음식','전통업소지정번호','월세액','보증액'\n",
    "                    ,'공장생산직종업원수','공장판매직종업원수',\n",
    "                    '공장사무직종업원수','본사종업원수','소재지우편번호',\n",
    "                   '영업상태코드', '영업상태명', '상세영업상태코드',\n",
    "                   '도로명주소','도로명우편번호'],axis=1)"
   ]
  },
  {
   "cell_type": "code",
   "execution_count": 104,
   "id": "d894687a",
   "metadata": {},
   "outputs": [],
   "source": [
    "closed=closed.drop([],axis=1)"
   ]
  },
  {
   "cell_type": "code",
   "execution_count": 93,
   "id": "076925ca",
   "metadata": {},
   "outputs": [],
   "source": [
    "def onehot(df, columns_list):\n",
    "    import pandas as pd\n",
    "    len_list=len(columns_list)\n",
    "    for i in range(len_list):\n",
    "        len_cat=len(df.groupby(columns_list[i]))\n",
    "        catrzed=pd.get_dummies(df[columns_list[i]])\n",
    "        cat_list=[]\n",
    "        for j in range(len_cat):\n",
    "            cat_list.append(df.groupby(columns_list[i]).count().index[j])\n",
    "        df[cat_list]=catrzed\n",
    "        df=df.drop([columns_list[i]], axis=1)\n",
    "    return df"
   ]
  },
  {
   "cell_type": "code",
   "execution_count": null,
   "id": "36852b5d",
   "metadata": {},
   "outputs": [],
   "source": [
    "closed=onehot(closed,['상세영업상태명'])"
   ]
  },
  {
   "cell_type": "code",
   "execution_count": 105,
   "id": "315decf1",
   "metadata": {
    "scrolled": false
   },
   "outputs": [
    {
     "name": "stdout",
     "output_type": "stream",
     "text": [
      "<class 'pandas.core.frame.DataFrame'>\n",
      "RangeIndex: 467675 entries, 0 to 467674\n",
      "Data columns (total 23 columns):\n",
      " #   Column    Non-Null Count   Dtype  \n",
      "---  ------    --------------   -----  \n",
      " 0   개방자치단체코드  467675 non-null  int64  \n",
      " 1   관리번호      467675 non-null  object \n",
      " 2   인허가일자     467675 non-null  object \n",
      " 3   폐업일자      343431 non-null  object \n",
      " 4   소재지면적     432840 non-null  float64\n",
      " 5   지번주소      467438 non-null  object \n",
      " 6   사업장명      467674 non-null  object \n",
      " 7   최종수정일자    467675 non-null  int64  \n",
      " 8   데이터갱신구분   467675 non-null  object \n",
      " 9   데이터갱신일자   467675 non-null  object \n",
      " 10  업태구분명     467654 non-null  object \n",
      " 11  좌표정보(X)   442879 non-null  float64\n",
      " 12  좌표정보(Y)   442879 non-null  float64\n",
      " 13  위생업태명     410771 non-null  object \n",
      " 14  남성종사자수    264046 non-null  float64\n",
      " 15  여성종사자수    266264 non-null  float64\n",
      " 16  영업장주변구분명  242754 non-null  object \n",
      " 17  등급구분명     233875 non-null  object \n",
      " 18  급수시설구분명   289733 non-null  object \n",
      " 19  다중이용업소여부  410787 non-null  object \n",
      " 20  시설총규모     410787 non-null  float64\n",
      " 21  영업        467675 non-null  uint8  \n",
      " 22  폐업        467675 non-null  uint8  \n",
      "dtypes: float64(6), int64(2), object(13), uint8(2)\n",
      "memory usage: 75.8+ MB\n"
     ]
    }
   ],
   "source": [
    "closed.info()"
   ]
  },
  {
   "cell_type": "code",
   "execution_count": 106,
   "id": "c3efa0b9",
   "metadata": {},
   "outputs": [
    {
     "data": {
      "text/plain": [
       "18        20210430\n",
       "50        20200602\n",
       "52        20200602\n",
       "58        20210806\n",
       "60        20200602\n",
       "            ...   \n",
       "467665    20210830\n",
       "467668    20210830\n",
       "467669    20210830\n",
       "467671    20210830\n",
       "467673    20210830\n",
       "Name: 폐업일자, Length: 343437, dtype: object"
      ]
     },
     "execution_count": 106,
     "metadata": {},
     "output_type": "execute_result"
    }
   ],
   "source": [
    "closed[closed['폐업']==1]['폐업일자']"
   ]
  },
  {
   "cell_type": "code",
   "execution_count": 121,
   "id": "5fa4add8",
   "metadata": {},
   "outputs": [
    {
     "data": {
      "text/plain": [
       "0            기타\n",
       "1            기타\n",
       "55           기타\n",
       "93           기타\n",
       "123          기타\n",
       "          ...  \n",
       "428505    주택가주변\n",
       "428506    주택가주변\n",
       "428509       기타\n",
       "428510    주택가주변\n",
       "428511       기타\n",
       "Name: 영업장주변구분명, Length: 242754, dtype: object"
      ]
     },
     "execution_count": 121,
     "metadata": {},
     "output_type": "execute_result"
    }
   ],
   "source": [
    "closed[closed['영업장주변구분명'].fillna(0)!=0]['영업장주변구분명']"
   ]
  },
  {
   "cell_type": "code",
   "execution_count": null,
   "id": "aecdbf55",
   "metadata": {},
   "outputs": [],
   "source": []
  }
 ],
 "metadata": {
  "kernelspec": {
   "display_name": "Python 3",
   "language": "python",
   "name": "python3"
  },
  "language_info": {
   "codemirror_mode": {
    "name": "ipython",
    "version": 3
   },
   "file_extension": ".py",
   "mimetype": "text/x-python",
   "name": "python",
   "nbconvert_exporter": "python",
   "pygments_lexer": "ipython3",
   "version": "3.8.8"
  },
  "toc": {
   "base_numbering": 1,
   "nav_menu": {},
   "number_sections": true,
   "sideBar": true,
   "skip_h1_title": false,
   "title_cell": "Table of Contents",
   "title_sidebar": "Contents",
   "toc_cell": false,
   "toc_position": {},
   "toc_section_display": true,
   "toc_window_display": false
  }
 },
 "nbformat": 4,
 "nbformat_minor": 5
}
