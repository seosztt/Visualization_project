{
 "cells": [
  {
   "cell_type": "code",
   "execution_count": 144,
   "id": "353732ef",
   "metadata": {},
   "outputs": [],
   "source": [
    "import pandas as pd\n",
    "import matplotlib as mpl\n",
    "import matplotlib.pyplot as plt"
   ]
  },
  {
   "cell_type": "code",
   "execution_count": 145,
   "id": "19469e27",
   "metadata": {},
   "outputs": [],
   "source": [
    "subway=pd.read_csv('./001_1.MONTHLY_SUBWAY_INFO.csv')\n",
    "corona=pd.read_csv('./002_2.COVID-19.csv')"
   ]
  },
  {
   "cell_type": "code",
   "execution_count": 34,
   "id": "35cb1b0d",
   "metadata": {},
   "outputs": [],
   "source": [
    "submonth=subway.groupby('date').sum().drop('wd',axis=1).sum(axis=1)"
   ]
  },
  {
   "cell_type": "code",
   "execution_count": 35,
   "id": "83c52716",
   "metadata": {},
   "outputs": [],
   "source": [
    "submonth=pd.DataFrame(submonth)"
   ]
  },
  {
   "cell_type": "code",
   "execution_count": 36,
   "id": "ff605c3f",
   "metadata": {},
   "outputs": [],
   "source": [
    "freq = corona.groupby(['DATE']).count()\n",
    "corona_seoul=freq['ID']\n",
    "corona_seoul=corona_seoul.rename('corona')"
   ]
  },
  {
   "cell_type": "code",
   "execution_count": 37,
   "id": "f1d332b2",
   "metadata": {},
   "outputs": [],
   "source": [
    "corona_seoul=pd.DataFrame(corona_seoul)\n",
    "corona_seoul['month']=corona_seoul.index.str.split('-').str[0:2]"
   ]
  },
  {
   "cell_type": "code",
   "execution_count": 38,
   "id": "8a2eba3e",
   "metadata": {},
   "outputs": [
    {
     "name": "stderr",
     "output_type": "stream",
     "text": [
      "<ipython-input-38-9c9a5610e232>:2: SettingWithCopyWarning: \n",
      "A value is trying to be set on a copy of a slice from a DataFrame\n",
      "\n",
      "See the caveats in the documentation: https://pandas.pydata.org/pandas-docs/stable/user_guide/indexing.html#returning-a-view-versus-a-copy\n",
      "  corona_seoul['month'][i]='-'.join(corona_seoul['month'][i])\n"
     ]
    }
   ],
   "source": [
    "for i in range(len(corona_seoul)):\n",
    "    corona_seoul['month'][i]='-'.join(corona_seoul['month'][i])"
   ]
  },
  {
   "cell_type": "code",
   "execution_count": 24,
   "id": "5d67cfe3",
   "metadata": {},
   "outputs": [
    {
     "data": {
      "text/plain": [
       "['2020', '01']"
      ]
     },
     "execution_count": 24,
     "metadata": {},
     "output_type": "execute_result"
    }
   ],
   "source": [
    "corona_seoul['month'][1]"
   ]
  },
  {
   "cell_type": "code",
   "execution_count": 22,
   "id": "0db3b77c",
   "metadata": {},
   "outputs": [
    {
     "data": {
      "text/plain": [
       "str"
      ]
     },
     "execution_count": 22,
     "metadata": {},
     "output_type": "execute_result"
    }
   ],
   "source": [
    "df['grp'] = df..str.split('_').str[0]"
   ]
  },
  {
   "cell_type": "code",
   "execution_count": 35,
   "id": "0c8f9290",
   "metadata": {},
   "outputs": [],
   "source": [
    "corona_seoul=corona_seoul.set_index('month')"
   ]
  },
  {
   "cell_type": "code",
   "execution_count": 40,
   "id": "ad2026f1",
   "metadata": {},
   "outputs": [],
   "source": [
    "coromonth=corona_seoul.groupby('month').sum()"
   ]
  },
  {
   "cell_type": "code",
   "execution_count": 20,
   "id": "e1309bdb",
   "metadata": {},
   "outputs": [
    {
     "data": {
      "text/plain": [
       "'3 4'"
      ]
     },
     "execution_count": 20,
     "metadata": {},
     "output_type": "execute_result"
    }
   ],
   "source": [
    "' '.join(['3','4'])"
   ]
  },
  {
   "cell_type": "code",
   "execution_count": 48,
   "id": "81e4c6ca",
   "metadata": {
    "scrolled": false
   },
   "outputs": [
    {
     "data": {
      "text/plain": [
       "[<matplotlib.lines.Line2D at 0x266ad087910>]"
      ]
     },
     "execution_count": 48,
     "metadata": {},
     "output_type": "execute_result"
    },
    {
     "data": {
      "image/png": "[encoded data removed]",
      "text/plain": [
       "<Figure size 432x288 with 1 Axes>"
      ]
     },
     "metadata": {
      "needs_background": "light"
     },
     "output_type": "display_data"
    }
   ],
   "source": [
    "plt.plot(coromonth.index,coromonth['corona'])"
   ]
  },
  {
   "cell_type": "code",
   "execution_count": 61,
   "id": "881b5208",
   "metadata": {},
   "outputs": [],
   "source": [
    "submonth.columns=['subcount']"
   ]
  },
  {
   "cell_type": "code",
   "execution_count": 63,
   "id": "b3220ae3",
   "metadata": {},
   "outputs": [
    {
     "ename": "KeyError",
     "evalue": "'corocount'",
     "output_type": "error",
     "traceback": [
      "\u001b[1;31m---------------------------------------------------------------------------\u001b[0m",
      "\u001b[1;31mKeyError\u001b[0m                                  Traceback (most recent call last)",
      "\u001b[1;32mC:\\ProgramData\\Anaconda3\\lib\\site-packages\\pandas\\core\\indexes\\base.py\u001b[0m in \u001b[0;36mget_loc\u001b[1;34m(self, key, method, tolerance)\u001b[0m\n\u001b[0;32m   3079\u001b[0m             \u001b[1;32mtry\u001b[0m\u001b[1;33m:\u001b[0m\u001b[1;33m\u001b[0m\u001b[1;33m\u001b[0m\u001b[0m\n\u001b[1;32m-> 3080\u001b[1;33m                 \u001b[1;32mreturn\u001b[0m \u001b[0mself\u001b[0m\u001b[1;33m.\u001b[0m\u001b[0m_engine\u001b[0m\u001b[1;33m.\u001b[0m\u001b[0mget_loc\u001b[0m\u001b[1;33m(\u001b[0m\u001b[0mcasted_key\u001b[0m\u001b[1;33m)\u001b[0m\u001b[1;33m\u001b[0m\u001b[1;33m\u001b[0m\u001b[0m\n\u001b[0m\u001b[0;32m   3081\u001b[0m             \u001b[1;32mexcept\u001b[0m \u001b[0mKeyError\u001b[0m \u001b[1;32mas\u001b[0m \u001b[0merr\u001b[0m\u001b[1;33m:\u001b[0m\u001b[1;33m\u001b[0m\u001b[1;33m\u001b[0m\u001b[0m\n",
      "\u001b[1;32mpandas\\_libs\\index.pyx\u001b[0m in \u001b[0;36mpandas._libs.index.IndexEngine.get_loc\u001b[1;34m()\u001b[0m\n",
      "\u001b[1;32mpandas\\_libs\\index.pyx\u001b[0m in \u001b[0;36mpandas._libs.index.IndexEngine.get_loc\u001b[1;34m()\u001b[0m\n",
      "\u001b[1;32mpandas\\_libs\\hashtable_class_helper.pxi\u001b[0m in \u001b[0;36mpandas._libs.hashtable.PyObjectHashTable.get_item\u001b[1;34m()\u001b[0m\n",
      "\u001b[1;32mpandas\\_libs\\hashtable_class_helper.pxi\u001b[0m in \u001b[0;36mpandas._libs.hashtable.PyObjectHashTable.get_item\u001b[1;34m()\u001b[0m\n",
      "\u001b[1;31mKeyError\u001b[0m: 'corocount'",
      "\nThe above exception was the direct cause of the following exception:\n",
      "\u001b[1;31mKeyError\u001b[0m                                  Traceback (most recent call last)",
      "\u001b[1;32m<ipython-input-63-7fa44128a48b>\u001b[0m in \u001b[0;36m<module>\u001b[1;34m\u001b[0m\n\u001b[1;32m----> 1\u001b[1;33m \u001b[0msubmonth\u001b[0m\u001b[1;33m[\u001b[0m\u001b[1;34m'corocount'\u001b[0m\u001b[1;33m]\u001b[0m\u001b[1;33m\u001b[0m\u001b[1;33m\u001b[0m\u001b[0m\n\u001b[0m",
      "\u001b[1;32mC:\\ProgramData\\Anaconda3\\lib\\site-packages\\pandas\\core\\frame.py\u001b[0m in \u001b[0;36m__getitem__\u001b[1;34m(self, key)\u001b[0m\n\u001b[0;32m   3022\u001b[0m             \u001b[1;32mif\u001b[0m \u001b[0mself\u001b[0m\u001b[1;33m.\u001b[0m\u001b[0mcolumns\u001b[0m\u001b[1;33m.\u001b[0m\u001b[0mnlevels\u001b[0m \u001b[1;33m>\u001b[0m \u001b[1;36m1\u001b[0m\u001b[1;33m:\u001b[0m\u001b[1;33m\u001b[0m\u001b[1;33m\u001b[0m\u001b[0m\n\u001b[0;32m   3023\u001b[0m                 \u001b[1;32mreturn\u001b[0m \u001b[0mself\u001b[0m\u001b[1;33m.\u001b[0m\u001b[0m_getitem_multilevel\u001b[0m\u001b[1;33m(\u001b[0m\u001b[0mkey\u001b[0m\u001b[1;33m)\u001b[0m\u001b[1;33m\u001b[0m\u001b[1;33m\u001b[0m\u001b[0m\n\u001b[1;32m-> 3024\u001b[1;33m             \u001b[0mindexer\u001b[0m \u001b[1;33m=\u001b[0m \u001b[0mself\u001b[0m\u001b[1;33m.\u001b[0m\u001b[0mcolumns\u001b[0m\u001b[1;33m.\u001b[0m\u001b[0mget_loc\u001b[0m\u001b[1;33m(\u001b[0m\u001b[0mkey\u001b[0m\u001b[1;33m)\u001b[0m\u001b[1;33m\u001b[0m\u001b[1;33m\u001b[0m\u001b[0m\n\u001b[0m\u001b[0;32m   3025\u001b[0m             \u001b[1;32mif\u001b[0m \u001b[0mis_integer\u001b[0m\u001b[1;33m(\u001b[0m\u001b[0mindexer\u001b[0m\u001b[1;33m)\u001b[0m\u001b[1;33m:\u001b[0m\u001b[1;33m\u001b[0m\u001b[1;33m\u001b[0m\u001b[0m\n\u001b[0;32m   3026\u001b[0m                 \u001b[0mindexer\u001b[0m \u001b[1;33m=\u001b[0m \u001b[1;33m[\u001b[0m\u001b[0mindexer\u001b[0m\u001b[1;33m]\u001b[0m\u001b[1;33m\u001b[0m\u001b[1;33m\u001b[0m\u001b[0m\n",
      "\u001b[1;32mC:\\ProgramData\\Anaconda3\\lib\\site-packages\\pandas\\core\\indexes\\base.py\u001b[0m in \u001b[0;36mget_loc\u001b[1;34m(self, key, method, tolerance)\u001b[0m\n\u001b[0;32m   3080\u001b[0m                 \u001b[1;32mreturn\u001b[0m \u001b[0mself\u001b[0m\u001b[1;33m.\u001b[0m\u001b[0m_engine\u001b[0m\u001b[1;33m.\u001b[0m\u001b[0mget_loc\u001b[0m\u001b[1;33m(\u001b[0m\u001b[0mcasted_key\u001b[0m\u001b[1;33m)\u001b[0m\u001b[1;33m\u001b[0m\u001b[1;33m\u001b[0m\u001b[0m\n\u001b[0;32m   3081\u001b[0m             \u001b[1;32mexcept\u001b[0m \u001b[0mKeyError\u001b[0m \u001b[1;32mas\u001b[0m \u001b[0merr\u001b[0m\u001b[1;33m:\u001b[0m\u001b[1;33m\u001b[0m\u001b[1;33m\u001b[0m\u001b[0m\n\u001b[1;32m-> 3082\u001b[1;33m                 \u001b[1;32mraise\u001b[0m \u001b[0mKeyError\u001b[0m\u001b[1;33m(\u001b[0m\u001b[0mkey\u001b[0m\u001b[1;33m)\u001b[0m \u001b[1;32mfrom\u001b[0m \u001b[0merr\u001b[0m\u001b[1;33m\u001b[0m\u001b[1;33m\u001b[0m\u001b[0m\n\u001b[0m\u001b[0;32m   3083\u001b[0m \u001b[1;33m\u001b[0m\u001b[0m\n\u001b[0;32m   3084\u001b[0m         \u001b[1;32mif\u001b[0m \u001b[0mtolerance\u001b[0m \u001b[1;32mis\u001b[0m \u001b[1;32mnot\u001b[0m \u001b[1;32mNone\u001b[0m\u001b[1;33m:\u001b[0m\u001b[1;33m\u001b[0m\u001b[1;33m\u001b[0m\u001b[0m\n",
      "\u001b[1;31mKeyError\u001b[0m: 'corocount'"
     ]
    }
   ],
   "source": [
    "submonth['corocount']"
   ]
  },
  {
   "cell_type": "code",
   "execution_count": 62,
   "id": "bf760682",
   "metadata": {},
   "outputs": [
    {
     "data": {
      "text/html": [
       "<div>\n",
       "<style scoped>\n",
       "    .dataframe tbody tr th:only-of-type {\n",
       "        vertical-align: middle;\n",
       "    }\n",
       "\n",
       "    .dataframe tbody tr th {\n",
       "        vertical-align: top;\n",
       "    }\n",
       "\n",
       "    .dataframe thead th {\n",
       "        text-align: right;\n",
       "    }\n",
       "</style>\n",
       "<table border=\"1\" class=\"dataframe\">\n",
       "  <thead>\n",
       "    <tr style=\"text-align: right;\">\n",
       "      <th></th>\n",
       "      <th>subcount</th>\n",
       "    </tr>\n",
       "    <tr>\n",
       "      <th>date</th>\n",
       "      <th></th>\n",
       "    </tr>\n",
       "  </thead>\n",
       "  <tbody>\n",
       "    <tr>\n",
       "      <th>201501</th>\n",
       "      <td>436172819</td>\n",
       "    </tr>\n",
       "    <tr>\n",
       "      <th>201502</th>\n",
       "      <td>375833692</td>\n",
       "    </tr>\n",
       "    <tr>\n",
       "      <th>201503</th>\n",
       "      <td>477496482</td>\n",
       "    </tr>\n",
       "    <tr>\n",
       "      <th>201504</th>\n",
       "      <td>470921474</td>\n",
       "    </tr>\n",
       "    <tr>\n",
       "      <th>201505</th>\n",
       "      <td>467467143</td>\n",
       "    </tr>\n",
       "    <tr>\n",
       "      <th>...</th>\n",
       "      <td>...</td>\n",
       "    </tr>\n",
       "    <tr>\n",
       "      <th>202103</th>\n",
       "      <td>358818099</td>\n",
       "    </tr>\n",
       "    <tr>\n",
       "      <th>202104</th>\n",
       "      <td>355958626</td>\n",
       "    </tr>\n",
       "    <tr>\n",
       "      <th>202105</th>\n",
       "      <td>348937483</td>\n",
       "    </tr>\n",
       "    <tr>\n",
       "      <th>202106</th>\n",
       "      <td>358726167</td>\n",
       "    </tr>\n",
       "    <tr>\n",
       "      <th>202107</th>\n",
       "      <td>319839109</td>\n",
       "    </tr>\n",
       "  </tbody>\n",
       "</table>\n",
       "<p>79 rows × 1 columns</p>\n",
       "</div>"
      ],
      "text/plain": [
       "         subcount\n",
       "date             \n",
       "201501  436172819\n",
       "201502  375833692\n",
       "201503  477496482\n",
       "201504  470921474\n",
       "201505  467467143\n",
       "...           ...\n",
       "202103  358818099\n",
       "202104  355958626\n",
       "202105  348937483\n",
       "202106  358726167\n",
       "202107  319839109\n",
       "\n",
       "[79 rows x 1 columns]"
      ]
     },
     "execution_count": 62,
     "metadata": {},
     "output_type": "execute_result"
    }
   ],
   "source": [
    "submonth.index()"
   ]
  },
  {
   "cell_type": "code",
   "execution_count": 67,
   "id": "71d78ee6",
   "metadata": {},
   "outputs": [],
   "source": [
    "submonth=submonth.reset_index()"
   ]
  },
  {
   "cell_type": "code",
   "execution_count": 71,
   "id": "43a8e572",
   "metadata": {},
   "outputs": [
    {
     "data": {
      "text/plain": [
       "numpy.int64"
      ]
     },
     "execution_count": 71,
     "metadata": {},
     "output_type": "execute_result"
    }
   ],
   "source": [
    "type(submonth['date'][1])"
   ]
  },
  {
   "cell_type": "code",
   "execution_count": null,
   "id": "27e1bf7b",
   "metadata": {},
   "outputs": [],
   "source": [
    "month_all=[]\n",
    "for i in range(0,448,7):\n",
    "    d=dt.datetime(2020,5)+td()\n",
    "    month_all.append(d.strftime('%Y-%m'))"
   ]
  },
  {
   "cell_type": "code",
   "execution_count": 72,
   "id": "3f2bb712",
   "metadata": {},
   "outputs": [],
   "source": [
    "import datetime as dt\n",
    "from datetime import timedelta as td"
   ]
  },
  {
   "cell_type": "code",
   "execution_count": 86,
   "id": "af6cd174",
   "metadata": {},
   "outputs": [],
   "source": [
    "coromonth=coromonth.reset_index()"
   ]
  },
  {
   "cell_type": "code",
   "execution_count": 76,
   "id": "dcb0228c",
   "metadata": {},
   "outputs": [
    {
     "data": {
      "text/plain": [
       "0     201501\n",
       "1     201502\n",
       "2     201503\n",
       "3     201504\n",
       "4     201505\n",
       "       ...  \n",
       "74    202103\n",
       "75    202104\n",
       "76    202105\n",
       "77    202106\n",
       "78    202107\n",
       "Name: date, Length: 79, dtype: int64"
      ]
     },
     "execution_count": 76,
     "metadata": {},
     "output_type": "execute_result"
    }
   ],
   "source": [
    "submonth['date']"
   ]
  },
  {
   "cell_type": "code",
   "execution_count": null,
   "id": "09b294df",
   "metadata": {},
   "outputs": [],
   "source": [
    "submonth['date'] = pd.to_datetime(df_covid['DATE'])"
   ]
  },
  {
   "cell_type": "code",
   "execution_count": 83,
   "id": "81fc3810",
   "metadata": {},
   "outputs": [],
   "source": [
    "submonth['date']=submonth['date'].astype('str')\n",
    "submonth['date']=pd.to_datetime(submonth['date'],format=\"%Y%m\")"
   ]
  },
  {
   "cell_type": "code",
   "execution_count": 84,
   "id": "f0c4c13a",
   "metadata": {},
   "outputs": [
    {
     "data": {
      "text/plain": [
       "0    2015-01-01\n",
       "1    2015-02-01\n",
       "2    2015-03-01\n",
       "3    2015-04-01\n",
       "4    2015-05-01\n",
       "        ...    \n",
       "74   2021-03-01\n",
       "75   2021-04-01\n",
       "76   2021-05-01\n",
       "77   2021-06-01\n",
       "78   2021-07-01\n",
       "Name: date, Length: 79, dtype: datetime64[ns]"
      ]
     },
     "execution_count": 84,
     "metadata": {},
     "output_type": "execute_result"
    }
   ],
   "source": [
    "submonth['date']"
   ]
  },
  {
   "cell_type": "code",
   "execution_count": 89,
   "id": "869a3463",
   "metadata": {},
   "outputs": [],
   "source": [
    "coromonth['month']=pd.to_datetime(coromonth['month'],format='%Y-%m')"
   ]
  },
  {
   "cell_type": "code",
   "execution_count": 90,
   "id": "f3666204",
   "metadata": {},
   "outputs": [
    {
     "data": {
      "text/plain": [
       "0    2020-01-01\n",
       "1    2020-02-01\n",
       "2    2020-03-01\n",
       "3    2020-04-01\n",
       "4    2020-05-01\n",
       "5    2020-06-01\n",
       "6    2020-07-01\n",
       "7    2020-08-01\n",
       "8    2020-09-01\n",
       "9    2020-10-01\n",
       "10   2020-11-01\n",
       "11   2020-12-01\n",
       "12   2021-01-01\n",
       "13   2021-02-01\n",
       "14   2021-03-01\n",
       "15   2021-04-01\n",
       "16   2021-05-01\n",
       "17   2021-06-01\n",
       "18   2021-07-01\n",
       "19   2021-08-01\n",
       "Name: month, dtype: datetime64[ns]"
      ]
     },
     "execution_count": 90,
     "metadata": {},
     "output_type": "execute_result"
    }
   ],
   "source": [
    "coromonth['month']"
   ]
  },
  {
   "cell_type": "code",
   "execution_count": 96,
   "id": "99007041",
   "metadata": {},
   "outputs": [],
   "source": [
    "sub_coro_month=pd.merge(submonth,coromonth, how='outer',on='month')"
   ]
  },
  {
   "cell_type": "code",
   "execution_count": 94,
   "id": "8b5bcf54",
   "metadata": {},
   "outputs": [],
   "source": [
    "submonth.columns=['month','subcount']"
   ]
  },
  {
   "cell_type": "code",
   "execution_count": 95,
   "id": "d056e254",
   "metadata": {},
   "outputs": [
    {
     "data": {
      "text/html": [
       "<div>\n",
       "<style scoped>\n",
       "    .dataframe tbody tr th:only-of-type {\n",
       "        vertical-align: middle;\n",
       "    }\n",
       "\n",
       "    .dataframe tbody tr th {\n",
       "        vertical-align: top;\n",
       "    }\n",
       "\n",
       "    .dataframe thead th {\n",
       "        text-align: right;\n",
       "    }\n",
       "</style>\n",
       "<table border=\"1\" class=\"dataframe\">\n",
       "  <thead>\n",
       "    <tr style=\"text-align: right;\">\n",
       "      <th></th>\n",
       "      <th>month</th>\n",
       "      <th>subcount</th>\n",
       "    </tr>\n",
       "  </thead>\n",
       "  <tbody>\n",
       "    <tr>\n",
       "      <th>0</th>\n",
       "      <td>2015-01-01</td>\n",
       "      <td>436172819</td>\n",
       "    </tr>\n",
       "    <tr>\n",
       "      <th>1</th>\n",
       "      <td>2015-02-01</td>\n",
       "      <td>375833692</td>\n",
       "    </tr>\n",
       "    <tr>\n",
       "      <th>2</th>\n",
       "      <td>2015-03-01</td>\n",
       "      <td>477496482</td>\n",
       "    </tr>\n",
       "    <tr>\n",
       "      <th>3</th>\n",
       "      <td>2015-04-01</td>\n",
       "      <td>470921474</td>\n",
       "    </tr>\n",
       "    <tr>\n",
       "      <th>4</th>\n",
       "      <td>2015-05-01</td>\n",
       "      <td>467467143</td>\n",
       "    </tr>\n",
       "    <tr>\n",
       "      <th>...</th>\n",
       "      <td>...</td>\n",
       "      <td>...</td>\n",
       "    </tr>\n",
       "    <tr>\n",
       "      <th>74</th>\n",
       "      <td>2021-03-01</td>\n",
       "      <td>358818099</td>\n",
       "    </tr>\n",
       "    <tr>\n",
       "      <th>75</th>\n",
       "      <td>2021-04-01</td>\n",
       "      <td>355958626</td>\n",
       "    </tr>\n",
       "    <tr>\n",
       "      <th>76</th>\n",
       "      <td>2021-05-01</td>\n",
       "      <td>348937483</td>\n",
       "    </tr>\n",
       "    <tr>\n",
       "      <th>77</th>\n",
       "      <td>2021-06-01</td>\n",
       "      <td>358726167</td>\n",
       "    </tr>\n",
       "    <tr>\n",
       "      <th>78</th>\n",
       "      <td>2021-07-01</td>\n",
       "      <td>319839109</td>\n",
       "    </tr>\n",
       "  </tbody>\n",
       "</table>\n",
       "<p>79 rows × 2 columns</p>\n",
       "</div>"
      ],
      "text/plain": [
       "        month   subcount\n",
       "0  2015-01-01  436172819\n",
       "1  2015-02-01  375833692\n",
       "2  2015-03-01  477496482\n",
       "3  2015-04-01  470921474\n",
       "4  2015-05-01  467467143\n",
       "..        ...        ...\n",
       "74 2021-03-01  358818099\n",
       "75 2021-04-01  355958626\n",
       "76 2021-05-01  348937483\n",
       "77 2021-06-01  358726167\n",
       "78 2021-07-01  319839109\n",
       "\n",
       "[79 rows x 2 columns]"
      ]
     },
     "execution_count": 95,
     "metadata": {},
     "output_type": "execute_result"
    }
   ],
   "source": [
    "submonth"
   ]
  },
  {
   "cell_type": "code",
   "execution_count": 99,
   "id": "2d24950a",
   "metadata": {},
   "outputs": [],
   "source": [
    "sub_coro_month = sub_coro_month.fillna(0)\n",
    "sub_coro_month['subcount']=sub_coro_month['subcount'].astype('int64')\n",
    "sub_coro_month['corona']=sub_coro_month['corona'].astype('int64')"
   ]
  },
  {
   "cell_type": "code",
   "execution_count": 113,
   "id": "b055c254",
   "metadata": {},
   "outputs": [],
   "source": [
    "sub_coro_month=sub_coro_month.drop(['index'], axis=1)"
   ]
  },
  {
   "cell_type": "code",
   "execution_count": 142,
   "id": "9974eabb",
   "metadata": {},
   "outputs": [
    {
     "data": {
      "image/png": "[encoded data removed]",
      "text/plain": [
       "<Figure size 432x288 with 1 Axes>"
      ]
     },
     "metadata": {
      "needs_background": "light"
     },
     "output_type": "display_data"
    },
    {
     "data": {
      "image/png": "[encoded data removed]",
      "text/plain": [
       "<Figure size 432x288 with 1 Axes>"
      ]
     },
     "metadata": {
      "needs_background": "light"
     },
     "output_type": "display_data"
    }
   ],
   "source": [
    "ax1=sub_coro_month.plot(x='month',y='subway')\n",
    "ax1.set_ylim(0,500000000)\n",
    "ax2=sub_coro_month.plot(x='month',y='covid')"
   ]
  },
  {
   "cell_type": "code",
   "execution_count": 139,
   "id": "3c84252d",
   "metadata": {},
   "outputs": [
    {
     "data": {
      "text/plain": [
       "(0.0, 50000000.0)"
      ]
     },
     "execution_count": 139,
     "metadata": {},
     "output_type": "execute_result"
    }
   ],
   "source": []
  },
  {
   "cell_type": "code",
   "execution_count": 116,
   "id": "1014c189",
   "metadata": {},
   "outputs": [],
   "source": [
    "sub_coro_month.columns=['month','subway','covid']"
   ]
  },
  {
   "cell_type": "code",
   "execution_count": 118,
   "id": "20be36c0",
   "metadata": {},
   "outputs": [],
   "source": [
    "sub_coro_month=sub_coro_month[:31]"
   ]
  },
  {
   "cell_type": "code",
   "execution_count": 122,
   "id": "cec6d0a7",
   "metadata": {},
   "outputs": [],
   "source": [
    "sub_coro_month=sub_coro_month.set_index('month')"
   ]
  },
  {
   "cell_type": "code",
   "execution_count": 130,
   "id": "0b02519b",
   "metadata": {},
   "outputs": [],
   "source": [
    "sub_coro_month['month']=sub_coro_month.index"
   ]
  },
  {
   "cell_type": "code",
   "execution_count": 132,
   "id": "73eaa31b",
   "metadata": {},
   "outputs": [
    {
     "data": {
      "text/html": [
       "<div>\n",
       "<style scoped>\n",
       "    .dataframe tbody tr th:only-of-type {\n",
       "        vertical-align: middle;\n",
       "    }\n",
       "\n",
       "    .dataframe tbody tr th {\n",
       "        vertical-align: top;\n",
       "    }\n",
       "\n",
       "    .dataframe thead th {\n",
       "        text-align: right;\n",
       "    }\n",
       "</style>\n",
       "<table border=\"1\" class=\"dataframe\">\n",
       "  <thead>\n",
       "    <tr style=\"text-align: right;\">\n",
       "      <th></th>\n",
       "      <th>subway</th>\n",
       "      <th>covid</th>\n",
       "      <th>month</th>\n",
       "    </tr>\n",
       "    <tr>\n",
       "      <th>month</th>\n",
       "      <th></th>\n",
       "      <th></th>\n",
       "      <th></th>\n",
       "    </tr>\n",
       "  </thead>\n",
       "  <tbody>\n",
       "    <tr>\n",
       "      <th>2019-01-01</th>\n",
       "      <td>442746389</td>\n",
       "      <td>0</td>\n",
       "      <td>2019-01-01</td>\n",
       "    </tr>\n",
       "    <tr>\n",
       "      <th>2019-02-01</th>\n",
       "      <td>379836010</td>\n",
       "      <td>0</td>\n",
       "      <td>2019-02-01</td>\n",
       "    </tr>\n",
       "    <tr>\n",
       "      <th>2019-03-01</th>\n",
       "      <td>466692826</td>\n",
       "      <td>0</td>\n",
       "      <td>2019-03-01</td>\n",
       "    </tr>\n",
       "    <tr>\n",
       "      <th>2019-04-01</th>\n",
       "      <td>470934348</td>\n",
       "      <td>0</td>\n",
       "      <td>2019-04-01</td>\n",
       "    </tr>\n",
       "    <tr>\n",
       "      <th>2019-05-01</th>\n",
       "      <td>485718557</td>\n",
       "      <td>0</td>\n",
       "      <td>2019-05-01</td>\n",
       "    </tr>\n",
       "    <tr>\n",
       "      <th>2019-06-01</th>\n",
       "      <td>442210635</td>\n",
       "      <td>0</td>\n",
       "      <td>2019-06-01</td>\n",
       "    </tr>\n",
       "    <tr>\n",
       "      <th>2019-07-01</th>\n",
       "      <td>457608824</td>\n",
       "      <td>0</td>\n",
       "      <td>2019-07-01</td>\n",
       "    </tr>\n",
       "    <tr>\n",
       "      <th>2019-08-01</th>\n",
       "      <td>438431863</td>\n",
       "      <td>0</td>\n",
       "      <td>2019-08-01</td>\n",
       "    </tr>\n",
       "    <tr>\n",
       "      <th>2019-09-01</th>\n",
       "      <td>427177350</td>\n",
       "      <td>0</td>\n",
       "      <td>2019-09-01</td>\n",
       "    </tr>\n",
       "    <tr>\n",
       "      <th>2019-10-01</th>\n",
       "      <td>479247731</td>\n",
       "      <td>0</td>\n",
       "      <td>2019-10-01</td>\n",
       "    </tr>\n",
       "    <tr>\n",
       "      <th>2019-11-01</th>\n",
       "      <td>463714343</td>\n",
       "      <td>0</td>\n",
       "      <td>2019-11-01</td>\n",
       "    </tr>\n",
       "    <tr>\n",
       "      <th>2019-12-01</th>\n",
       "      <td>468248543</td>\n",
       "      <td>0</td>\n",
       "      <td>2019-12-01</td>\n",
       "    </tr>\n",
       "    <tr>\n",
       "      <th>2020-01-01</th>\n",
       "      <td>414682647</td>\n",
       "      <td>7</td>\n",
       "      <td>2020-01-01</td>\n",
       "    </tr>\n",
       "    <tr>\n",
       "      <th>2020-02-01</th>\n",
       "      <td>338641156</td>\n",
       "      <td>80</td>\n",
       "      <td>2020-02-01</td>\n",
       "    </tr>\n",
       "    <tr>\n",
       "      <th>2020-03-01</th>\n",
       "      <td>278995559</td>\n",
       "      <td>391</td>\n",
       "      <td>2020-03-01</td>\n",
       "    </tr>\n",
       "    <tr>\n",
       "      <th>2020-04-01</th>\n",
       "      <td>297802722</td>\n",
       "      <td>156</td>\n",
       "      <td>2020-04-01</td>\n",
       "    </tr>\n",
       "    <tr>\n",
       "      <th>2020-05-01</th>\n",
       "      <td>329632420</td>\n",
       "      <td>229</td>\n",
       "      <td>2020-05-01</td>\n",
       "    </tr>\n",
       "    <tr>\n",
       "      <th>2020-06-01</th>\n",
       "      <td>343750579</td>\n",
       "      <td>459</td>\n",
       "      <td>2020-06-01</td>\n",
       "    </tr>\n",
       "    <tr>\n",
       "      <th>2020-07-01</th>\n",
       "      <td>367610345</td>\n",
       "      <td>281</td>\n",
       "      <td>2020-07-01</td>\n",
       "    </tr>\n",
       "    <tr>\n",
       "      <th>2020-08-01</th>\n",
       "      <td>306490047</td>\n",
       "      <td>2415</td>\n",
       "      <td>2020-08-01</td>\n",
       "    </tr>\n",
       "    <tr>\n",
       "      <th>2020-09-01</th>\n",
       "      <td>289643781</td>\n",
       "      <td>1306</td>\n",
       "      <td>2020-09-01</td>\n",
       "    </tr>\n",
       "    <tr>\n",
       "      <th>2020-10-01</th>\n",
       "      <td>339013537</td>\n",
       "      <td>733</td>\n",
       "      <td>2020-10-01</td>\n",
       "    </tr>\n",
       "    <tr>\n",
       "      <th>2020-11-01</th>\n",
       "      <td>344276206</td>\n",
       "      <td>2904</td>\n",
       "      <td>2020-11-01</td>\n",
       "    </tr>\n",
       "    <tr>\n",
       "      <th>2020-12-01</th>\n",
       "      <td>279788597</td>\n",
       "      <td>10432</td>\n",
       "      <td>2020-12-01</td>\n",
       "    </tr>\n",
       "    <tr>\n",
       "      <th>2021-01-01</th>\n",
       "      <td>284860128</td>\n",
       "      <td>4878</td>\n",
       "      <td>2021-01-01</td>\n",
       "    </tr>\n",
       "    <tr>\n",
       "      <th>2021-02-01</th>\n",
       "      <td>286506074</td>\n",
       "      <td>4060</td>\n",
       "      <td>2021-02-01</td>\n",
       "    </tr>\n",
       "    <tr>\n",
       "      <th>2021-03-01</th>\n",
       "      <td>358818099</td>\n",
       "      <td>3897</td>\n",
       "      <td>2021-03-01</td>\n",
       "    </tr>\n",
       "    <tr>\n",
       "      <th>2021-04-01</th>\n",
       "      <td>355958626</td>\n",
       "      <td>5803</td>\n",
       "      <td>2021-04-01</td>\n",
       "    </tr>\n",
       "    <tr>\n",
       "      <th>2021-05-01</th>\n",
       "      <td>348937483</td>\n",
       "      <td>6030</td>\n",
       "      <td>2021-05-01</td>\n",
       "    </tr>\n",
       "    <tr>\n",
       "      <th>2021-06-01</th>\n",
       "      <td>358726167</td>\n",
       "      <td>6258</td>\n",
       "      <td>2021-06-01</td>\n",
       "    </tr>\n",
       "    <tr>\n",
       "      <th>2021-07-01</th>\n",
       "      <td>319839109</td>\n",
       "      <td>14504</td>\n",
       "      <td>2021-07-01</td>\n",
       "    </tr>\n",
       "  </tbody>\n",
       "</table>\n",
       "</div>"
      ],
      "text/plain": [
       "               subway  covid      month\n",
       "month                                  \n",
       "2019-01-01  442746389      0 2019-01-01\n",
       "2019-02-01  379836010      0 2019-02-01\n",
       "2019-03-01  466692826      0 2019-03-01\n",
       "2019-04-01  470934348      0 2019-04-01\n",
       "2019-05-01  485718557      0 2019-05-01\n",
       "2019-06-01  442210635      0 2019-06-01\n",
       "2019-07-01  457608824      0 2019-07-01\n",
       "2019-08-01  438431863      0 2019-08-01\n",
       "2019-09-01  427177350      0 2019-09-01\n",
       "2019-10-01  479247731      0 2019-10-01\n",
       "2019-11-01  463714343      0 2019-11-01\n",
       "2019-12-01  468248543      0 2019-12-01\n",
       "2020-01-01  414682647      7 2020-01-01\n",
       "2020-02-01  338641156     80 2020-02-01\n",
       "2020-03-01  278995559    391 2020-03-01\n",
       "2020-04-01  297802722    156 2020-04-01\n",
       "2020-05-01  329632420    229 2020-05-01\n",
       "2020-06-01  343750579    459 2020-06-01\n",
       "2020-07-01  367610345    281 2020-07-01\n",
       "2020-08-01  306490047   2415 2020-08-01\n",
       "2020-09-01  289643781   1306 2020-09-01\n",
       "2020-10-01  339013537    733 2020-10-01\n",
       "2020-11-01  344276206   2904 2020-11-01\n",
       "2020-12-01  279788597  10432 2020-12-01\n",
       "2021-01-01  284860128   4878 2021-01-01\n",
       "2021-02-01  286506074   4060 2021-02-01\n",
       "2021-03-01  358818099   3897 2021-03-01\n",
       "2021-04-01  355958626   5803 2021-04-01\n",
       "2021-05-01  348937483   6030 2021-05-01\n",
       "2021-06-01  358726167   6258 2021-06-01\n",
       "2021-07-01  319839109  14504 2021-07-01"
      ]
     },
     "execution_count": 132,
     "metadata": {},
     "output_type": "execute_result"
    }
   ],
   "source": [
    "sub_coro_month"
   ]
  },
  {
   "cell_type": "code",
   "execution_count": 143,
   "id": "081c75d7",
   "metadata": {
    "scrolled": true
   },
   "outputs": [
    {
     "data": {
      "text/html": [
       "<div>\n",
       "<style scoped>\n",
       "    .dataframe tbody tr th:only-of-type {\n",
       "        vertical-align: middle;\n",
       "    }\n",
       "\n",
       "    .dataframe tbody tr th {\n",
       "        vertical-align: top;\n",
       "    }\n",
       "\n",
       "    .dataframe thead th {\n",
       "        text-align: right;\n",
       "    }\n",
       "</style>\n",
       "<table border=\"1\" class=\"dataframe\">\n",
       "  <thead>\n",
       "    <tr style=\"text-align: right;\">\n",
       "      <th></th>\n",
       "      <th>date</th>\n",
       "      <th>ȣ����</th>\n",
       "      <th>����ö��</th>\n",
       "      <th>04��-05�� �����ο�</th>\n",
       "      <th>04��-05�� �����ο�.1</th>\n",
       "      <th>05��-06�� �����ο�</th>\n",
       "      <th>05��-06�� �����ο�.1</th>\n",
       "      <th>06��-07�� �����ο�</th>\n",
       "      <th>06��-07�� �����ο�.1</th>\n",
       "      <th>07��-08�� �����ο�</th>\n",
       "      <th>...</th>\n",
       "      <th>23��-24�� �����ο�.1</th>\n",
       "      <th>00��-01�� �����ο�</th>\n",
       "      <th>00��-01�� �����ο�.1</th>\n",
       "      <th>01��-02�� �����ο�</th>\n",
       "      <th>01��-02�� �����ο�.1</th>\n",
       "      <th>02��-03�� �����ο�</th>\n",
       "      <th>02��-03�� �����ο�.1</th>\n",
       "      <th>03��-04�� �����ο�</th>\n",
       "      <th>03��-04�� �����ο�.1</th>\n",
       "      <th>wd</th>\n",
       "    </tr>\n",
       "  </thead>\n",
       "  <tbody>\n",
       "    <tr>\n",
       "      <th>0</th>\n",
       "      <td>202107</td>\n",
       "      <td>1ȣ��</td>\n",
       "      <td>���빮</td>\n",
       "      <td>665</td>\n",
       "      <td>13</td>\n",
       "      <td>13154</td>\n",
       "      <td>2112</td>\n",
       "      <td>8755</td>\n",
       "      <td>6552</td>\n",
       "      <td>13558</td>\n",
       "      <td>...</td>\n",
       "      <td>7234</td>\n",
       "      <td>7</td>\n",
       "      <td>1394</td>\n",
       "      <td>0</td>\n",
       "      <td>0</td>\n",
       "      <td>0</td>\n",
       "      <td>1</td>\n",
       "      <td>0</td>\n",
       "      <td>0</td>\n",
       "      <td>20210803</td>\n",
       "    </tr>\n",
       "    <tr>\n",
       "      <th>1</th>\n",
       "      <td>202107</td>\n",
       "      <td>1ȣ��</td>\n",
       "      <td>������</td>\n",
       "      <td>92</td>\n",
       "      <td>0</td>\n",
       "      <td>3197</td>\n",
       "      <td>1077</td>\n",
       "      <td>3575</td>\n",
       "      <td>4910</td>\n",
       "      <td>5452</td>\n",
       "      <td>...</td>\n",
       "      <td>1955</td>\n",
       "      <td>3</td>\n",
       "      <td>1039</td>\n",
       "      <td>0</td>\n",
       "      <td>0</td>\n",
       "      <td>0</td>\n",
       "      <td>0</td>\n",
       "      <td>0</td>\n",
       "      <td>0</td>\n",
       "      <td>20210803</td>\n",
       "    </tr>\n",
       "    <tr>\n",
       "      <th>2</th>\n",
       "      <td>202107</td>\n",
       "      <td>1ȣ��</td>\n",
       "      <td>���￪</td>\n",
       "      <td>654</td>\n",
       "      <td>6</td>\n",
       "      <td>8652</td>\n",
       "      <td>6342</td>\n",
       "      <td>11542</td>\n",
       "      <td>33836</td>\n",
       "      <td>34033</td>\n",
       "      <td>...</td>\n",
       "      <td>5824</td>\n",
       "      <td>29</td>\n",
       "      <td>551</td>\n",
       "      <td>0</td>\n",
       "      <td>0</td>\n",
       "      <td>0</td>\n",
       "      <td>0</td>\n",
       "      <td>0</td>\n",
       "      <td>0</td>\n",
       "      <td>20210803</td>\n",
       "    </tr>\n",
       "    <tr>\n",
       "      <th>3</th>\n",
       "      <td>202107</td>\n",
       "      <td>1ȣ��</td>\n",
       "      <td>��û</td>\n",
       "      <td>13</td>\n",
       "      <td>0</td>\n",
       "      <td>1803</td>\n",
       "      <td>4616</td>\n",
       "      <td>2797</td>\n",
       "      <td>19665</td>\n",
       "      <td>6210</td>\n",
       "      <td>...</td>\n",
       "      <td>988</td>\n",
       "      <td>6</td>\n",
       "      <td>84</td>\n",
       "      <td>0</td>\n",
       "      <td>0</td>\n",
       "      <td>0</td>\n",
       "      <td>0</td>\n",
       "      <td>0</td>\n",
       "      <td>0</td>\n",
       "      <td>20210803</td>\n",
       "    </tr>\n",
       "    <tr>\n",
       "      <th>4</th>\n",
       "      <td>202107</td>\n",
       "      <td>1ȣ��</td>\n",
       "      <td>�ż���</td>\n",
       "      <td>295</td>\n",
       "      <td>14</td>\n",
       "      <td>7940</td>\n",
       "      <td>3120</td>\n",
       "      <td>7834</td>\n",
       "      <td>10994</td>\n",
       "      <td>15927</td>\n",
       "      <td>...</td>\n",
       "      <td>4104</td>\n",
       "      <td>21</td>\n",
       "      <td>437</td>\n",
       "      <td>1</td>\n",
       "      <td>0</td>\n",
       "      <td>0</td>\n",
       "      <td>0</td>\n",
       "      <td>0</td>\n",
       "      <td>0</td>\n",
       "      <td>20210803</td>\n",
       "    </tr>\n",
       "    <tr>\n",
       "      <th>...</th>\n",
       "      <td>...</td>\n",
       "      <td>...</td>\n",
       "      <td>...</td>\n",
       "      <td>...</td>\n",
       "      <td>...</td>\n",
       "      <td>...</td>\n",
       "      <td>...</td>\n",
       "      <td>...</td>\n",
       "      <td>...</td>\n",
       "      <td>...</td>\n",
       "      <td>...</td>\n",
       "      <td>...</td>\n",
       "      <td>...</td>\n",
       "      <td>...</td>\n",
       "      <td>...</td>\n",
       "      <td>...</td>\n",
       "      <td>...</td>\n",
       "      <td>...</td>\n",
       "      <td>...</td>\n",
       "      <td>...</td>\n",
       "      <td>...</td>\n",
       "    </tr>\n",
       "    <tr>\n",
       "      <th>45940</th>\n",
       "      <td>201501</td>\n",
       "      <td>�߾Ӽ�</td>\n",
       "      <td>����</td>\n",
       "      <td>0</td>\n",
       "      <td>0</td>\n",
       "      <td>177</td>\n",
       "      <td>56</td>\n",
       "      <td>642</td>\n",
       "      <td>403</td>\n",
       "      <td>1292</td>\n",
       "      <td>...</td>\n",
       "      <td>633</td>\n",
       "      <td>3</td>\n",
       "      <td>222</td>\n",
       "      <td>0</td>\n",
       "      <td>0</td>\n",
       "      <td>0</td>\n",
       "      <td>0</td>\n",
       "      <td>0</td>\n",
       "      <td>0</td>\n",
       "      <td>20151223</td>\n",
       "    </tr>\n",
       "    <tr>\n",
       "      <th>45941</th>\n",
       "      <td>201501</td>\n",
       "      <td>�߾Ӽ�</td>\n",
       "      <td>����</td>\n",
       "      <td>1</td>\n",
       "      <td>0</td>\n",
       "      <td>292</td>\n",
       "      <td>4</td>\n",
       "      <td>415</td>\n",
       "      <td>46</td>\n",
       "      <td>537</td>\n",
       "      <td>...</td>\n",
       "      <td>383</td>\n",
       "      <td>3</td>\n",
       "      <td>157</td>\n",
       "      <td>0</td>\n",
       "      <td>0</td>\n",
       "      <td>0</td>\n",
       "      <td>0</td>\n",
       "      <td>0</td>\n",
       "      <td>0</td>\n",
       "      <td>20151223</td>\n",
       "    </tr>\n",
       "    <tr>\n",
       "      <th>45942</th>\n",
       "      <td>201501</td>\n",
       "      <td>�߾Ӽ�</td>\n",
       "      <td>�߶�</td>\n",
       "      <td>14</td>\n",
       "      <td>1</td>\n",
       "      <td>4929</td>\n",
       "      <td>424</td>\n",
       "      <td>8539</td>\n",
       "      <td>2084</td>\n",
       "      <td>22160</td>\n",
       "      <td>...</td>\n",
       "      <td>6501</td>\n",
       "      <td>86</td>\n",
       "      <td>1617</td>\n",
       "      <td>0</td>\n",
       "      <td>0</td>\n",
       "      <td>0</td>\n",
       "      <td>0</td>\n",
       "      <td>0</td>\n",
       "      <td>0</td>\n",
       "      <td>20151223</td>\n",
       "    </tr>\n",
       "    <tr>\n",
       "      <th>45943</th>\n",
       "      <td>201501</td>\n",
       "      <td>�߾Ӽ�</td>\n",
       "      <td>�ȴ�</td>\n",
       "      <td>0</td>\n",
       "      <td>0</td>\n",
       "      <td>161</td>\n",
       "      <td>50</td>\n",
       "      <td>368</td>\n",
       "      <td>149</td>\n",
       "      <td>1227</td>\n",
       "      <td>...</td>\n",
       "      <td>336</td>\n",
       "      <td>8</td>\n",
       "      <td>85</td>\n",
       "      <td>0</td>\n",
       "      <td>0</td>\n",
       "      <td>0</td>\n",
       "      <td>0</td>\n",
       "      <td>0</td>\n",
       "      <td>0</td>\n",
       "      <td>20151223</td>\n",
       "    </tr>\n",
       "    <tr>\n",
       "      <th>45944</th>\n",
       "      <td>201501</td>\n",
       "      <td>�߾Ӽ�</td>\n",
       "      <td>ȸ��</td>\n",
       "      <td>436</td>\n",
       "      <td>3</td>\n",
       "      <td>10929</td>\n",
       "      <td>3067</td>\n",
       "      <td>23317</td>\n",
       "      <td>10430</td>\n",
       "      <td>65043</td>\n",
       "      <td>...</td>\n",
       "      <td>35702</td>\n",
       "      <td>767</td>\n",
       "      <td>9314</td>\n",
       "      <td>0</td>\n",
       "      <td>0</td>\n",
       "      <td>0</td>\n",
       "      <td>0</td>\n",
       "      <td>0</td>\n",
       "      <td>0</td>\n",
       "      <td>20151223</td>\n",
       "    </tr>\n",
       "  </tbody>\n",
       "</table>\n",
       "<p>45945 rows × 52 columns</p>\n",
       "</div>"
      ],
      "text/plain": [
       "         date ȣ���� ����ö��  04��-05�� �����ο�  04��-05�� �����ο�.1  \\\n",
       "0      202107  1ȣ��    ���빮                665                   13   \n",
       "1      202107  1ȣ��  ������                 92                    0   \n",
       "2      202107  1ȣ��    ���￪                654                    6   \n",
       "3      202107  1ȣ��     ��û                 13                    0   \n",
       "4      202107  1ȣ��   �ż���                295                   14   \n",
       "...       ...   ...     ...                ...                  ...   \n",
       "45940  201501  �߾Ӽ�    ����                  0                    0   \n",
       "45941  201501  �߾Ӽ�    ����                  1                    0   \n",
       "45942  201501  �߾Ӽ�     �߶�                 14                    1   \n",
       "45943  201501  �߾Ӽ�     �ȴ�                  0                    0   \n",
       "45944  201501  �߾Ӽ�     ȸ��                436                    3   \n",
       "\n",
       "       05��-06�� �����ο�  05��-06�� �����ο�.1  06��-07�� �����ο�  \\\n",
       "0                  13154                 2112               8755   \n",
       "1                   3197                 1077               3575   \n",
       "2                   8652                 6342              11542   \n",
       "3                   1803                 4616               2797   \n",
       "4                   7940                 3120               7834   \n",
       "...                  ...                  ...                ...   \n",
       "45940                177                   56                642   \n",
       "45941                292                    4                415   \n",
       "45942               4929                  424               8539   \n",
       "45943                161                   50                368   \n",
       "45944              10929                 3067              23317   \n",
       "\n",
       "       06��-07�� �����ο�.1  07��-08�� �����ο�  ...  23��-24�� �����ο�.1  \\\n",
       "0                     6552              13558  ...                 7234   \n",
       "1                     4910               5452  ...                 1955   \n",
       "2                    33836              34033  ...                 5824   \n",
       "3                    19665               6210  ...                  988   \n",
       "4                    10994              15927  ...                 4104   \n",
       "...                    ...                ...  ...                  ...   \n",
       "45940                  403               1292  ...                  633   \n",
       "45941                   46                537  ...                  383   \n",
       "45942                 2084              22160  ...                 6501   \n",
       "45943                  149               1227  ...                  336   \n",
       "45944                10430              65043  ...                35702   \n",
       "\n",
       "       00��-01�� �����ο�  00��-01�� �����ο�.1  01��-02�� �����ο�  \\\n",
       "0                      7                 1394                  0   \n",
       "1                      3                 1039                  0   \n",
       "2                     29                  551                  0   \n",
       "3                      6                   84                  0   \n",
       "4                     21                  437                  1   \n",
       "...                  ...                  ...                ...   \n",
       "45940                  3                  222                  0   \n",
       "45941                  3                  157                  0   \n",
       "45942                 86                 1617                  0   \n",
       "45943                  8                   85                  0   \n",
       "45944                767                 9314                  0   \n",
       "\n",
       "       01��-02�� �����ο�.1  02��-03�� �����ο�  02��-03�� �����ο�.1  \\\n",
       "0                        0                  0                    1   \n",
       "1                        0                  0                    0   \n",
       "2                        0                  0                    0   \n",
       "3                        0                  0                    0   \n",
       "4                        0                  0                    0   \n",
       "...                    ...                ...                  ...   \n",
       "45940                    0                  0                    0   \n",
       "45941                    0                  0                    0   \n",
       "45942                    0                  0                    0   \n",
       "45943                    0                  0                    0   \n",
       "45944                    0                  0                    0   \n",
       "\n",
       "       03��-04�� �����ο�  03��-04�� �����ο�.1        wd  \n",
       "0                      0                    0  20210803  \n",
       "1                      0                    0  20210803  \n",
       "2                      0                    0  20210803  \n",
       "3                      0                    0  20210803  \n",
       "4                      0                    0  20210803  \n",
       "...                  ...                  ...       ...  \n",
       "45940                  0                    0  20151223  \n",
       "45941                  0                    0  20151223  \n",
       "45942                  0                    0  20151223  \n",
       "45943                  0                    0  20151223  \n",
       "45944                  0                    0  20151223  \n",
       "\n",
       "[45945 rows x 52 columns]"
      ]
     },
     "execution_count": 143,
     "metadata": {},
     "output_type": "execute_result"
    }
   ],
   "source": [
    "subway"
   ]
  },
  {
   "cell_type": "code",
   "execution_count": null,
   "id": "167d5bca",
   "metadata": {},
   "outputs": [],
   "source": []
  }
 ],
 "metadata": {
  "kernelspec": {
   "display_name": "Python 3",
   "language": "python",
   "name": "python3"
  },
  "language_info": {
   "codemirror_mode": {
    "name": "ipython",
    "version": 3
   },
   "file_extension": ".py",
   "mimetype": "text/x-python",
   "name": "python",
   "nbconvert_exporter": "python",
   "pygments_lexer": "ipython3",
   "version": "3.8.8"
  }
 },
 "nbformat": 4,
 "nbformat_minor": 5
}
