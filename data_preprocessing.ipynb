{
 "cells": [
  {
   "cell_type": "markdown",
   "id": "0f486696",
   "metadata": {
    "id": "ebc17cb8"
   },
   "source": [
    "## 1. 코로나 확진자 수 vs 지하철 이용량\n",
    "### 1.1 전처리"
   ]
  },
  {
   "cell_type": "code",
   "execution_count": 1,
   "id": "323afed3",
   "metadata": {
    "id": "784f3f8b",
    "scrolled": false
   },
   "outputs": [],
   "source": [
    "import numpy as np\n",
    "import pandas as pd\n",
    "import datetime\n",
    "import holidays\n",
    "import matplotlib.pyplot as plt\n",
    "import matplotlib as mpl\n",
    "import warnings\n",
    "\n",
    "from plotly.subplots import make_subplots\n",
    "import plotly.graph_objects as go\n",
    "\n",
    "# 한글\n",
    "mpl.rcParams['axes.unicode_minus'] = False\n",
    "plt.rc('font', family='Malgun Gothic')\n",
    "warnings.filterwarnings('ignore')\n",
    "\n",
    "# df : DataFrame\n",
    "# df.index : datetime64 type\n",
    "# start, end : str('YYYY-MM-DD')\n",
    "def slicing(df, start, end):\n",
    "    dateRange = pd.date_range(start, end)\n",
    "    return df[df['date'].isin(dateRange)]\n",
    "\n",
    "# df_covid 전처리 (2019-01-01 ~ 2021-07-31)\n",
    "df_covid = pd.read_csv('./DATA/002_2.COVID-19.csv')\n",
    "df_covid['DATE']= df_covid['DATE'].astype('str')\n",
    "df_covid['DATE'] = pd.to_datetime(df_covid['DATE'])\n",
    "df_covid.rename(columns= {'ID' : 'COUNT'}, inplace=True)\n",
    "df_covid = df_covid.groupby(['DATE']).count()\n",
    "df_covid.insert(0, 'date', df_covid.index)\n",
    "df_covid = df_covid[{'date', 'COUNT'}]\n",
    "\n",
    "#df_subway 전처리 (2019-01-01 ~ 2021-07-31)\n",
    "df_subway = pd.read_csv('./DATA/002_1.DAILY_SUBWAY_INFO.csv')\n",
    "df_subway['date']= df_subway['date'].astype('str')\n",
    "df_subway['date'] = pd.to_datetime(df_subway['date'])\n",
    "df_subway = df_subway.drop(['on_num', 'off_num'], axis=1)\n",
    "\n",
    "# df에 df_subway, df_covid 합치기\n",
    "df = pd.merge(df_subway, df_covid, how='outer', on='date')\n",
    "df = df.fillna(0)\n",
    "df['COUNT'] = df['COUNT'].astype('Int64')\n",
    "df['total'] = df['total'].astype('Int64')\n",
    "\n",
    "# df_subway_kor 전처리\n",
    "df_subway_kor = pd.read_csv('./DATA/002_3.COVID-19_IN_KOREA.csv', thousands = ',')\n",
    "df_subway_kor = df_subway_kor.iloc[1:].loc[:, ['date', 'total']]\n",
    "df_subway_kor['date']= df_subway_kor['date'].astype('str')\n",
    "df_subway_kor['date'] = pd.to_datetime(df_subway_kor['date'])\n",
    "\n",
    "# df에 df_subway_kor 합치기\n",
    "df = pd.merge(df, df_subway_kor, how='outer', on='date')\n",
    "df.columns = ['date', 'subway', 'COVID-19', 'COVID-19 KOR']\n",
    "df = df.fillna(0)\n",
    "df['COVID-19 KOR'] = df['COVID-19 KOR'].astype('Int64')\n",
    "\n",
    "# df_biz : Business day (법정공휴일, 주말 제외)\n",
    "holidays = holidays.Korea()\n",
    "datetime.date(2019, 1, 1) in holidays\n",
    "datetime.date(2020, 1, 1) in holidays\n",
    "datetime.date(2021, 1, 1) in holidays\n",
    "df_biz = df[~df['date'].isin(list(holidays.keys()))]\n",
    "df_biz = df_biz[df_biz['date'].dt.dayofweek < 5].copy()\n",
    "df_biz = df_biz.set_index('date')\n",
    "df = df.set_index('date')\n",
    "\n",
    "# df_week : 주 단위로 묶기 (평균, 합계, 합계)\n",
    "df_week = pd.DataFrame()\n",
    "df_week['subway'] = df_biz['subway'].resample('7D').mean()\n",
    "df_week['COVID-19'] = df.drop(df.index[0]).resample('7D').sum()['COVID-19']\n",
    "df_week['COVID-19 KOR'] = df.drop(df.index[0]).resample('7D').sum()['COVID-19 KOR']\n",
    "\n",
    "# df_quarter: 분기 단위로 묶기\n",
    "df_quarter = pd.DataFrame()\n",
    "df_q_sample = df_biz['2020-01-24':'2021-07-31']\n",
    "df_q_sample2 = df['2020-01-24':'2021-07-31']\n",
    "\n",
    "\n",
    "df_quarter['subway'] = df_q_sample['subway'].resample('1Q').mean()\n",
    "df_quarter['COVID-19'] = df_q_sample2['COVID-19'].resample('1Q').sum()\n",
    "df_quarter = df_quarter.reset_index()\n",
    "df_quarter['date'] = df_quarter['date'].dt.to_period('Q')\n",
    "# df_quarter.rename(columns= {'date' : 'quarter'}, inplace=True)\n",
    "\n",
    "#data type을 float로 통일\n",
    "df = df.astype('float')\n",
    "df_biz = df_biz.astype('float')\n",
    "df_week = df_week.astype('float')\n",
    "\n",
    "df = df.reset_index()\n",
    "df_biz = df_biz.reset_index()\n",
    "df_week = df_week.reset_index()\n",
    "\n",
    "\n",
    "\n",
    "##########################210909 1140 추가############################\n",
    "# df_week를 2020-01-31 ~ 2021-07-27 으로 slicing\n",
    "# column에 'increase' 추가 (전국 신규확진자 수 변화량)\n",
    "df_week2 = slicing(df_week, '2020-01-31', '2021-07-27')\n",
    "df_week2_previous_week = slicing(df_week, '2020-01-24', '2021-07-20')\n",
    "\n",
    "# 다음 line에서 series끼리 뺄셈을 하기 위해서 index를 통일\n",
    "df_week2_previous_week.set_index(df_week2.index, inplace=True)\n",
    "\n",
    "# increase : 전주 대비 증가량\n",
    "df_week2['increase'] = (df_week2['COVID-19 KOR'] \\\n",
    "                    - df_week2_previous_week['COVID-19 KOR'])\n",
    "\n",
    "# increase percent : 전주 대비 증가율(%)\n",
    "df_week2['increase percent'] = 100 * df_week2['increase'] \\\n",
    "                    / df_week2_previous_week['COVID-19 KOR']\n",
    "\n"
   ]
  },
  {
   "cell_type": "code",
   "execution_count": 2,
   "id": "3c1dd0e4",
   "metadata": {
    "id": "8ffed039"
   },
   "outputs": [
    {
     "data": {
      "text/html": [
       "<div>\n",
       "<style scoped>\n",
       "    .dataframe tbody tr th:only-of-type {\n",
       "        vertical-align: middle;\n",
       "    }\n",
       "\n",
       "    .dataframe tbody tr th {\n",
       "        vertical-align: top;\n",
       "    }\n",
       "\n",
       "    .dataframe thead th {\n",
       "        text-align: right;\n",
       "    }\n",
       "</style>\n",
       "<table border=\"1\" class=\"dataframe\">\n",
       "  <thead>\n",
       "    <tr style=\"text-align: right;\">\n",
       "      <th></th>\n",
       "      <th>date</th>\n",
       "      <th>subway</th>\n",
       "      <th>COVID-19</th>\n",
       "      <th>COVID-19 KOR</th>\n",
       "      <th>increase</th>\n",
       "      <th>increase percent</th>\n",
       "    </tr>\n",
       "  </thead>\n",
       "  <tbody>\n",
       "    <tr>\n",
       "      <th>57</th>\n",
       "      <td>2020-02-05</td>\n",
       "      <td>14009898.8</td>\n",
       "      <td>4.0</td>\n",
       "      <td>12.0</td>\n",
       "      <td>0.0</td>\n",
       "      <td>0.000000</td>\n",
       "    </tr>\n",
       "    <tr>\n",
       "      <th>58</th>\n",
       "      <td>2020-02-12</td>\n",
       "      <td>14546996.0</td>\n",
       "      <td>2.0</td>\n",
       "      <td>4.0</td>\n",
       "      <td>-8.0</td>\n",
       "      <td>-66.666667</td>\n",
       "    </tr>\n",
       "    <tr>\n",
       "      <th>59</th>\n",
       "      <td>2020-02-19</td>\n",
       "      <td>13137736.6</td>\n",
       "      <td>37.0</td>\n",
       "      <td>861.0</td>\n",
       "      <td>857.0</td>\n",
       "      <td>21425.000000</td>\n",
       "    </tr>\n",
       "    <tr>\n",
       "      <th>60</th>\n",
       "      <td>2020-02-26</td>\n",
       "      <td>10372522.2</td>\n",
       "      <td>47.0</td>\n",
       "      <td>3919.0</td>\n",
       "      <td>3058.0</td>\n",
       "      <td>355.168409</td>\n",
       "    </tr>\n",
       "    <tr>\n",
       "      <th>61</th>\n",
       "      <td>2020-03-04</td>\n",
       "      <td>10290419.0</td>\n",
       "      <td>104.0</td>\n",
       "      <td>2701.0</td>\n",
       "      <td>-1218.0</td>\n",
       "      <td>-31.079357</td>\n",
       "    </tr>\n",
       "    <tr>\n",
       "      <th>...</th>\n",
       "      <td>...</td>\n",
       "      <td>...</td>\n",
       "      <td>...</td>\n",
       "      <td>...</td>\n",
       "      <td>...</td>\n",
       "      <td>...</td>\n",
       "    </tr>\n",
       "    <tr>\n",
       "      <th>129</th>\n",
       "      <td>2021-06-23</td>\n",
       "      <td>13619797.8</td>\n",
       "      <td>1791.0</td>\n",
       "      <td>4267.0</td>\n",
       "      <td>1013.0</td>\n",
       "      <td>31.130916</td>\n",
       "    </tr>\n",
       "    <tr>\n",
       "      <th>130</th>\n",
       "      <td>2021-06-30</td>\n",
       "      <td>13585402.8</td>\n",
       "      <td>2536.0</td>\n",
       "      <td>5374.0</td>\n",
       "      <td>1107.0</td>\n",
       "      <td>25.943286</td>\n",
       "    </tr>\n",
       "    <tr>\n",
       "      <th>131</th>\n",
       "      <td>2021-07-07</td>\n",
       "      <td>12297445.4</td>\n",
       "      <td>3528.0</td>\n",
       "      <td>8754.0</td>\n",
       "      <td>3380.0</td>\n",
       "      <td>62.895422</td>\n",
       "    </tr>\n",
       "    <tr>\n",
       "      <th>132</th>\n",
       "      <td>2021-07-14</td>\n",
       "      <td>11303303.6</td>\n",
       "      <td>3586.0</td>\n",
       "      <td>10178.0</td>\n",
       "      <td>1424.0</td>\n",
       "      <td>16.266849</td>\n",
       "    </tr>\n",
       "    <tr>\n",
       "      <th>133</th>\n",
       "      <td>2021-07-21</td>\n",
       "      <td>11231033.4</td>\n",
       "      <td>3237.0</td>\n",
       "      <td>11046.0</td>\n",
       "      <td>868.0</td>\n",
       "      <td>8.528198</td>\n",
       "    </tr>\n",
       "  </tbody>\n",
       "</table>\n",
       "<p>77 rows × 6 columns</p>\n",
       "</div>"
      ],
      "text/plain": [
       "          date      subway  COVID-19  COVID-19 KOR  increase  increase percent\n",
       "57  2020-02-05  14009898.8       4.0          12.0       0.0          0.000000\n",
       "58  2020-02-12  14546996.0       2.0           4.0      -8.0        -66.666667\n",
       "59  2020-02-19  13137736.6      37.0         861.0     857.0      21425.000000\n",
       "60  2020-02-26  10372522.2      47.0        3919.0    3058.0        355.168409\n",
       "61  2020-03-04  10290419.0     104.0        2701.0   -1218.0        -31.079357\n",
       "..         ...         ...       ...           ...       ...               ...\n",
       "129 2021-06-23  13619797.8    1791.0        4267.0    1013.0         31.130916\n",
       "130 2021-06-30  13585402.8    2536.0        5374.0    1107.0         25.943286\n",
       "131 2021-07-07  12297445.4    3528.0        8754.0    3380.0         62.895422\n",
       "132 2021-07-14  11303303.6    3586.0       10178.0    1424.0         16.266849\n",
       "133 2021-07-21  11231033.4    3237.0       11046.0     868.0          8.528198\n",
       "\n",
       "[77 rows x 6 columns]"
      ]
     },
     "execution_count": 2,
     "metadata": {},
     "output_type": "execute_result"
    }
   ],
   "source": [
    "df_week2"
   ]
  },
  {
   "cell_type": "code",
   "execution_count": 3,
   "id": "69986af3",
   "metadata": {
    "id": "f886416a"
   },
   "outputs": [
    {
     "data": {
      "text/html": [
       "<div>\n",
       "<style scoped>\n",
       "    .dataframe tbody tr th:only-of-type {\n",
       "        vertical-align: middle;\n",
       "    }\n",
       "\n",
       "    .dataframe tbody tr th {\n",
       "        vertical-align: top;\n",
       "    }\n",
       "\n",
       "    .dataframe thead th {\n",
       "        text-align: right;\n",
       "    }\n",
       "</style>\n",
       "<table border=\"1\" class=\"dataframe\">\n",
       "  <thead>\n",
       "    <tr style=\"text-align: right;\">\n",
       "      <th></th>\n",
       "      <th>date</th>\n",
       "      <th>subway</th>\n",
       "      <th>COVID-19</th>\n",
       "    </tr>\n",
       "  </thead>\n",
       "  <tbody>\n",
       "    <tr>\n",
       "      <th>0</th>\n",
       "      <td>2020Q1</td>\n",
       "      <td>12161313.76087</td>\n",
       "      <td>478</td>\n",
       "    </tr>\n",
       "    <tr>\n",
       "      <th>1</th>\n",
       "      <td>2020Q2</td>\n",
       "      <td>12387785.016129</td>\n",
       "      <td>844</td>\n",
       "    </tr>\n",
       "    <tr>\n",
       "      <th>2</th>\n",
       "      <td>2020Q3</td>\n",
       "      <td>12186759.84375</td>\n",
       "      <td>4002</td>\n",
       "    </tr>\n",
       "    <tr>\n",
       "      <th>3</th>\n",
       "      <td>2020Q4</td>\n",
       "      <td>12343831.677419</td>\n",
       "      <td>14069</td>\n",
       "    </tr>\n",
       "    <tr>\n",
       "      <th>4</th>\n",
       "      <td>2021Q1</td>\n",
       "      <td>12368386.416667</td>\n",
       "      <td>12835</td>\n",
       "    </tr>\n",
       "    <tr>\n",
       "      <th>5</th>\n",
       "      <td>2021Q2</td>\n",
       "      <td>13376056.873016</td>\n",
       "      <td>18091</td>\n",
       "    </tr>\n",
       "    <tr>\n",
       "      <th>6</th>\n",
       "      <td>2021Q3</td>\n",
       "      <td>11909896.272727</td>\n",
       "      <td>14504</td>\n",
       "    </tr>\n",
       "  </tbody>\n",
       "</table>\n",
       "</div>"
      ],
      "text/plain": [
       "     date           subway  COVID-19\n",
       "0  2020Q1   12161313.76087       478\n",
       "1  2020Q2  12387785.016129       844\n",
       "2  2020Q3   12186759.84375      4002\n",
       "3  2020Q4  12343831.677419     14069\n",
       "4  2021Q1  12368386.416667     12835\n",
       "5  2021Q2  13376056.873016     18091\n",
       "6  2021Q3  11909896.272727     14504"
      ]
     },
     "execution_count": 3,
     "metadata": {},
     "output_type": "execute_result"
    }
   ],
   "source": [
    "df_quarter"
   ]
  },
  {
   "cell_type": "markdown",
   "id": "b29c864f",
   "metadata": {
    "id": "0d3211a9"
   },
   "source": [
    "### 1.2 시각화(image)"
   ]
  },
  {
   "cell_type": "code",
   "execution_count": 10,
   "id": "daec2fa9",
   "metadata": {
    "id": "f5694090",
    "outputId": "5c56277d-7aa5-401d-ed91-0a4cda53231b"
   },
   "outputs": [
    {
     "data": {
      "application/vnd.plotly.v1+json": {
       "config": {
        "plotlyServerURL": "https://plot.ly"
       },
       "data": [
        {
         "line": {
          "color": "royalblue",
          "width": 1
         },
         "mode": "lines",
         "name": "주간 날짜",
         "type": "scatter",
         "x": [
          "2020-02-05T00:00:00",
          "2020-02-12T00:00:00",
          "2020-02-19T00:00:00",
          "2020-02-26T00:00:00",
          "2020-03-04T00:00:00",
          "2020-03-11T00:00:00",
          "2020-03-18T00:00:00",
          "2020-03-25T00:00:00",
          "2020-04-01T00:00:00",
          "2020-04-08T00:00:00",
          "2020-04-15T00:00:00",
          "2020-04-22T00:00:00",
          "2020-04-29T00:00:00",
          "2020-05-06T00:00:00",
          "2020-05-13T00:00:00",
          "2020-05-20T00:00:00",
          "2020-05-27T00:00:00",
          "2020-06-03T00:00:00",
          "2020-06-10T00:00:00",
          "2020-06-17T00:00:00",
          "2020-06-24T00:00:00",
          "2020-07-01T00:00:00",
          "2020-07-08T00:00:00",
          "2020-07-15T00:00:00",
          "2020-07-22T00:00:00",
          "2020-07-29T00:00:00",
          "2020-08-05T00:00:00",
          "2020-08-12T00:00:00",
          "2020-08-19T00:00:00",
          "2020-08-26T00:00:00",
          "2020-09-02T00:00:00",
          "2020-09-09T00:00:00",
          "2020-09-16T00:00:00",
          "2020-09-23T00:00:00",
          "2020-09-30T00:00:00",
          "2020-10-07T00:00:00",
          "2020-10-14T00:00:00",
          "2020-10-21T00:00:00",
          "2020-10-28T00:00:00",
          "2020-11-04T00:00:00",
          "2020-11-11T00:00:00",
          "2020-11-18T00:00:00",
          "2020-11-25T00:00:00",
          "2020-12-02T00:00:00",
          "2020-12-09T00:00:00",
          "2020-12-16T00:00:00",
          "2020-12-23T00:00:00",
          "2020-12-30T00:00:00",
          "2021-01-06T00:00:00",
          "2021-01-13T00:00:00",
          "2021-01-20T00:00:00",
          "2021-01-27T00:00:00",
          "2021-02-03T00:00:00",
          "2021-02-10T00:00:00",
          "2021-02-17T00:00:00",
          "2021-02-24T00:00:00",
          "2021-03-03T00:00:00",
          "2021-03-10T00:00:00",
          "2021-03-17T00:00:00",
          "2021-03-24T00:00:00",
          "2021-03-31T00:00:00",
          "2021-04-07T00:00:00",
          "2021-04-14T00:00:00",
          "2021-04-21T00:00:00",
          "2021-04-28T00:00:00",
          "2021-05-05T00:00:00",
          "2021-05-12T00:00:00",
          "2021-05-19T00:00:00",
          "2021-05-26T00:00:00",
          "2021-06-02T00:00:00",
          "2021-06-09T00:00:00",
          "2021-06-16T00:00:00",
          "2021-06-23T00:00:00",
          "2021-06-30T00:00:00",
          "2021-07-07T00:00:00",
          "2021-07-14T00:00:00",
          "2021-07-21T00:00:00"
         ],
         "xaxis": "x",
         "y": [
          14009898.8,
          14546996,
          13137736.6,
          10372522.2,
          10290419,
          10423681.4,
          10693489.6,
          10877329.2,
          11097518.4,
          11458510.8,
          10569386.8,
          12241331.6,
          12102491.5,
          13055297.2,
          12499059.2,
          13045893.6,
          12919031.4,
          12905326.6,
          12928953.2,
          13057647.8,
          12989581,
          13351914.6,
          13234499.4,
          13479415.4,
          13165324.4,
          12702703,
          12963737,
          13058420.75,
          11188678,
          10195596,
          9880538.8,
          10941628.6,
          11941380,
          12498374.2,
          12490941.5,
          13045720.75,
          13367527,
          13627547.6,
          13786035.8,
          13764042,
          13802751.2,
          12916910.8,
          11889150.8,
          11494891.6,
          10625079.8,
          10279606.6,
          10327674,
          10011607,
          10997793,
          11276921.6,
          11692732.8,
          11873863.2,
          12428427,
          12045507.333333334,
          12510232.8,
          12927308.5,
          13148315.4,
          13190294.8,
          13375121.6,
          13449089.6,
          13563190.4,
          13270599,
          13194319.8,
          13324859,
          13387228.6,
          13375508.75,
          13679239.2,
          13358398.5,
          13228314.2,
          13238285.2,
          13193803.6,
          13474835,
          13619797.8,
          13585402.8,
          12297445.4,
          11303303.6,
          11231033.4
         ],
         "yaxis": "y"
        },
        {
         "mode": "lines+markers",
         "name": "코로나 확진자",
         "type": "scatter",
         "x": [
          "2020-02-05T00:00:00",
          "2020-02-12T00:00:00",
          "2020-02-19T00:00:00",
          "2020-02-26T00:00:00",
          "2020-03-04T00:00:00",
          "2020-03-11T00:00:00",
          "2020-03-18T00:00:00",
          "2020-03-25T00:00:00",
          "2020-04-01T00:00:00",
          "2020-04-08T00:00:00",
          "2020-04-15T00:00:00",
          "2020-04-22T00:00:00",
          "2020-04-29T00:00:00",
          "2020-05-06T00:00:00",
          "2020-05-13T00:00:00",
          "2020-05-20T00:00:00",
          "2020-05-27T00:00:00",
          "2020-06-03T00:00:00",
          "2020-06-10T00:00:00",
          "2020-06-17T00:00:00",
          "2020-06-24T00:00:00",
          "2020-07-01T00:00:00",
          "2020-07-08T00:00:00",
          "2020-07-15T00:00:00",
          "2020-07-22T00:00:00",
          "2020-07-29T00:00:00",
          "2020-08-05T00:00:00",
          "2020-08-12T00:00:00",
          "2020-08-19T00:00:00",
          "2020-08-26T00:00:00",
          "2020-09-02T00:00:00",
          "2020-09-09T00:00:00",
          "2020-09-16T00:00:00",
          "2020-09-23T00:00:00",
          "2020-09-30T00:00:00",
          "2020-10-07T00:00:00",
          "2020-10-14T00:00:00",
          "2020-10-21T00:00:00",
          "2020-10-28T00:00:00",
          "2020-11-04T00:00:00",
          "2020-11-11T00:00:00",
          "2020-11-18T00:00:00",
          "2020-11-25T00:00:00",
          "2020-12-02T00:00:00",
          "2020-12-09T00:00:00",
          "2020-12-16T00:00:00",
          "2020-12-23T00:00:00",
          "2020-12-30T00:00:00",
          "2021-01-06T00:00:00",
          "2021-01-13T00:00:00",
          "2021-01-20T00:00:00",
          "2021-01-27T00:00:00",
          "2021-02-03T00:00:00",
          "2021-02-10T00:00:00",
          "2021-02-17T00:00:00",
          "2021-02-24T00:00:00",
          "2021-03-03T00:00:00",
          "2021-03-10T00:00:00",
          "2021-03-17T00:00:00",
          "2021-03-24T00:00:00",
          "2021-03-31T00:00:00",
          "2021-04-07T00:00:00",
          "2021-04-14T00:00:00",
          "2021-04-21T00:00:00",
          "2021-04-28T00:00:00",
          "2021-05-05T00:00:00",
          "2021-05-12T00:00:00",
          "2021-05-19T00:00:00",
          "2021-05-26T00:00:00",
          "2021-06-02T00:00:00",
          "2021-06-09T00:00:00",
          "2021-06-16T00:00:00",
          "2021-06-23T00:00:00",
          "2021-06-30T00:00:00",
          "2021-07-07T00:00:00",
          "2021-07-14T00:00:00",
          "2021-07-21T00:00:00"
         ],
         "xaxis": "x",
         "y": [
          4,
          2,
          37,
          47,
          104,
          69,
          78,
          129,
          104,
          37,
          9,
          5,
          4,
          71,
          44,
          51,
          93,
          132,
          118,
          96,
          80,
          64,
          56,
          73,
          74,
          38,
          85,
          650,
          930,
          813,
          397,
          299,
          274,
          219,
          161,
          157,
          120,
          151,
          264,
          306,
          542,
          906,
          1260,
          1762,
          2120,
          2728,
          2900,
          1944,
          1317,
          934,
          827,
          894,
          960,
          1197,
          991,
          834,
          848,
          836,
          853,
          923,
          1166,
          1441,
          1357,
          1389,
          1380,
          1354,
          1541,
          1341,
          1321,
          1358,
          1254,
          1264,
          1791,
          2536,
          3528,
          3586,
          3237
         ],
         "yaxis": "y2"
        },
        {
         "mode": "lines+markers",
         "name": "코로나 총 확진자",
         "type": "scatter",
         "x": [
          "2020-02-05T00:00:00",
          "2020-02-12T00:00:00",
          "2020-02-19T00:00:00",
          "2020-02-26T00:00:00",
          "2020-03-04T00:00:00",
          "2020-03-11T00:00:00",
          "2020-03-18T00:00:00",
          "2020-03-25T00:00:00",
          "2020-04-01T00:00:00",
          "2020-04-08T00:00:00",
          "2020-04-15T00:00:00",
          "2020-04-22T00:00:00",
          "2020-04-29T00:00:00",
          "2020-05-06T00:00:00",
          "2020-05-13T00:00:00",
          "2020-05-20T00:00:00",
          "2020-05-27T00:00:00",
          "2020-06-03T00:00:00",
          "2020-06-10T00:00:00",
          "2020-06-17T00:00:00",
          "2020-06-24T00:00:00",
          "2020-07-01T00:00:00",
          "2020-07-08T00:00:00",
          "2020-07-15T00:00:00",
          "2020-07-22T00:00:00",
          "2020-07-29T00:00:00",
          "2020-08-05T00:00:00",
          "2020-08-12T00:00:00",
          "2020-08-19T00:00:00",
          "2020-08-26T00:00:00",
          "2020-09-02T00:00:00",
          "2020-09-09T00:00:00",
          "2020-09-16T00:00:00",
          "2020-09-23T00:00:00",
          "2020-09-30T00:00:00",
          "2020-10-07T00:00:00",
          "2020-10-14T00:00:00",
          "2020-10-21T00:00:00",
          "2020-10-28T00:00:00",
          "2020-11-04T00:00:00",
          "2020-11-11T00:00:00",
          "2020-11-18T00:00:00",
          "2020-11-25T00:00:00",
          "2020-12-02T00:00:00",
          "2020-12-09T00:00:00",
          "2020-12-16T00:00:00",
          "2020-12-23T00:00:00",
          "2020-12-30T00:00:00",
          "2021-01-06T00:00:00",
          "2021-01-13T00:00:00",
          "2021-01-20T00:00:00",
          "2021-01-27T00:00:00",
          "2021-02-03T00:00:00",
          "2021-02-10T00:00:00",
          "2021-02-17T00:00:00",
          "2021-02-24T00:00:00",
          "2021-03-03T00:00:00",
          "2021-03-10T00:00:00",
          "2021-03-17T00:00:00",
          "2021-03-24T00:00:00",
          "2021-03-31T00:00:00",
          "2021-04-07T00:00:00",
          "2021-04-14T00:00:00",
          "2021-04-21T00:00:00",
          "2021-04-28T00:00:00",
          "2021-05-05T00:00:00",
          "2021-05-12T00:00:00",
          "2021-05-19T00:00:00",
          "2021-05-26T00:00:00",
          "2021-06-02T00:00:00",
          "2021-06-09T00:00:00",
          "2021-06-16T00:00:00",
          "2021-06-23T00:00:00",
          "2021-06-30T00:00:00",
          "2021-07-07T00:00:00",
          "2021-07-14T00:00:00",
          "2021-07-21T00:00:00"
         ],
         "xaxis": "x",
         "y": [
          12,
          4,
          861,
          3919,
          2701,
          807,
          717,
          749,
          545,
          233,
          119,
          69,
          52,
          132,
          142,
          147,
          316,
          310,
          304,
          329,
          315,
          382,
          331,
          304,
          387,
          220,
          237,
          1101,
          2183,
          2237,
          1250,
          959,
          715,
          593,
          540,
          556,
          539,
          710,
          764,
          845,
          1344,
          2294,
          3360,
          4089,
          5617,
          7087,
          7266,
          6255,
          4667,
          3472,
          2759,
          2976,
          2640,
          2839,
          3355,
          2691,
          2892,
          3114,
          3041,
          3163,
          3650,
          4459,
          4512,
          4703,
          4371,
          4013,
          4534,
          4158,
          3823,
          4292,
          3557,
          3254,
          4267,
          5374,
          8754,
          10178,
          11046
         ],
         "yaxis": "y2"
        }
       ],
       "layout": {
        "template": {
         "data": {
          "bar": [
           {
            "error_x": {
             "color": "#2a3f5f"
            },
            "error_y": {
             "color": "#2a3f5f"
            },
            "marker": {
             "line": {
              "color": "#E5ECF6",
              "width": 0.5
             },
             "pattern": {
              "fillmode": "overlay",
              "size": 10,
              "solidity": 0.2
             }
            },
            "type": "bar"
           }
          ],
          "barpolar": [
           {
            "marker": {
             "line": {
              "color": "#E5ECF6",
              "width": 0.5
             },
             "pattern": {
              "fillmode": "overlay",
              "size": 10,
              "solidity": 0.2
             }
            },
            "type": "barpolar"
           }
          ],
          "carpet": [
           {
            "aaxis": {
             "endlinecolor": "#2a3f5f",
             "gridcolor": "white",
             "linecolor": "white",
             "minorgridcolor": "white",
             "startlinecolor": "#2a3f5f"
            },
            "baxis": {
             "endlinecolor": "#2a3f5f",
             "gridcolor": "white",
             "linecolor": "white",
             "minorgridcolor": "white",
             "startlinecolor": "#2a3f5f"
            },
            "type": "carpet"
           }
          ],
          "choropleth": [
           {
            "colorbar": {
             "outlinewidth": 0,
             "ticks": ""
            },
            "type": "choropleth"
           }
          ],
          "contour": [
           {
            "colorbar": {
             "outlinewidth": 0,
             "ticks": ""
            },
            "colorscale": [
             [
              0,
              "#0d0887"
             ],
             [
              0.1111111111111111,
              "#46039f"
             ],
             [
              0.2222222222222222,
              "#7201a8"
             ],
             [
              0.3333333333333333,
              "#9c179e"
             ],
             [
              0.4444444444444444,
              "#bd3786"
             ],
             [
              0.5555555555555556,
              "#d8576b"
             ],
             [
              0.6666666666666666,
              "#ed7953"
             ],
             [
              0.7777777777777778,
              "#fb9f3a"
             ],
             [
              0.8888888888888888,
              "#fdca26"
             ],
             [
              1,
              "#f0f921"
             ]
            ],
            "type": "contour"
           }
          ],
          "contourcarpet": [
           {
            "colorbar": {
             "outlinewidth": 0,
             "ticks": ""
            },
            "type": "contourcarpet"
           }
          ],
          "heatmap": [
           {
            "colorbar": {
             "outlinewidth": 0,
             "ticks": ""
            },
            "colorscale": [
             [
              0,
              "#0d0887"
             ],
             [
              0.1111111111111111,
              "#46039f"
             ],
             [
              0.2222222222222222,
              "#7201a8"
             ],
             [
              0.3333333333333333,
              "#9c179e"
             ],
             [
              0.4444444444444444,
              "#bd3786"
             ],
             [
              0.5555555555555556,
              "#d8576b"
             ],
             [
              0.6666666666666666,
              "#ed7953"
             ],
             [
              0.7777777777777778,
              "#fb9f3a"
             ],
             [
              0.8888888888888888,
              "#fdca26"
             ],
             [
              1,
              "#f0f921"
             ]
            ],
            "type": "heatmap"
           }
          ],
          "heatmapgl": [
           {
            "colorbar": {
             "outlinewidth": 0,
             "ticks": ""
            },
            "colorscale": [
             [
              0,
              "#0d0887"
             ],
             [
              0.1111111111111111,
              "#46039f"
             ],
             [
              0.2222222222222222,
              "#7201a8"
             ],
             [
              0.3333333333333333,
              "#9c179e"
             ],
             [
              0.4444444444444444,
              "#bd3786"
             ],
             [
              0.5555555555555556,
              "#d8576b"
             ],
             [
              0.6666666666666666,
              "#ed7953"
             ],
             [
              0.7777777777777778,
              "#fb9f3a"
             ],
             [
              0.8888888888888888,
              "#fdca26"
             ],
             [
              1,
              "#f0f921"
             ]
            ],
            "type": "heatmapgl"
           }
          ],
          "histogram": [
           {
            "marker": {
             "pattern": {
              "fillmode": "overlay",
              "size": 10,
              "solidity": 0.2
             }
            },
            "type": "histogram"
           }
          ],
          "histogram2d": [
           {
            "colorbar": {
             "outlinewidth": 0,
             "ticks": ""
            },
            "colorscale": [
             [
              0,
              "#0d0887"
             ],
             [
              0.1111111111111111,
              "#46039f"
             ],
             [
              0.2222222222222222,
              "#7201a8"
             ],
             [
              0.3333333333333333,
              "#9c179e"
             ],
             [
              0.4444444444444444,
              "#bd3786"
             ],
             [
              0.5555555555555556,
              "#d8576b"
             ],
             [
              0.6666666666666666,
              "#ed7953"
             ],
             [
              0.7777777777777778,
              "#fb9f3a"
             ],
             [
              0.8888888888888888,
              "#fdca26"
             ],
             [
              1,
              "#f0f921"
             ]
            ],
            "type": "histogram2d"
           }
          ],
          "histogram2dcontour": [
           {
            "colorbar": {
             "outlinewidth": 0,
             "ticks": ""
            },
            "colorscale": [
             [
              0,
              "#0d0887"
             ],
             [
              0.1111111111111111,
              "#46039f"
             ],
             [
              0.2222222222222222,
              "#7201a8"
             ],
             [
              0.3333333333333333,
              "#9c179e"
             ],
             [
              0.4444444444444444,
              "#bd3786"
             ],
             [
              0.5555555555555556,
              "#d8576b"
             ],
             [
              0.6666666666666666,
              "#ed7953"
             ],
             [
              0.7777777777777778,
              "#fb9f3a"
             ],
             [
              0.8888888888888888,
              "#fdca26"
             ],
             [
              1,
              "#f0f921"
             ]
            ],
            "type": "histogram2dcontour"
           }
          ],
          "mesh3d": [
           {
            "colorbar": {
             "outlinewidth": 0,
             "ticks": ""
            },
            "type": "mesh3d"
           }
          ],
          "parcoords": [
           {
            "line": {
             "colorbar": {
              "outlinewidth": 0,
              "ticks": ""
             }
            },
            "type": "parcoords"
           }
          ],
          "pie": [
           {
            "automargin": true,
            "type": "pie"
           }
          ],
          "scatter": [
           {
            "marker": {
             "colorbar": {
              "outlinewidth": 0,
              "ticks": ""
             }
            },
            "type": "scatter"
           }
          ],
          "scatter3d": [
           {
            "line": {
             "colorbar": {
              "outlinewidth": 0,
              "ticks": ""
             }
            },
            "marker": {
             "colorbar": {
              "outlinewidth": 0,
              "ticks": ""
             }
            },
            "type": "scatter3d"
           }
          ],
          "scattercarpet": [
           {
            "marker": {
             "colorbar": {
              "outlinewidth": 0,
              "ticks": ""
             }
            },
            "type": "scattercarpet"
           }
          ],
          "scattergeo": [
           {
            "marker": {
             "colorbar": {
              "outlinewidth": 0,
              "ticks": ""
             }
            },
            "type": "scattergeo"
           }
          ],
          "scattergl": [
           {
            "marker": {
             "colorbar": {
              "outlinewidth": 0,
              "ticks": ""
             }
            },
            "type": "scattergl"
           }
          ],
          "scattermapbox": [
           {
            "marker": {
             "colorbar": {
              "outlinewidth": 0,
              "ticks": ""
             }
            },
            "type": "scattermapbox"
           }
          ],
          "scatterpolar": [
           {
            "marker": {
             "colorbar": {
              "outlinewidth": 0,
              "ticks": ""
             }
            },
            "type": "scatterpolar"
           }
          ],
          "scatterpolargl": [
           {
            "marker": {
             "colorbar": {
              "outlinewidth": 0,
              "ticks": ""
             }
            },
            "type": "scatterpolargl"
           }
          ],
          "scatterternary": [
           {
            "marker": {
             "colorbar": {
              "outlinewidth": 0,
              "ticks": ""
             }
            },
            "type": "scatterternary"
           }
          ],
          "surface": [
           {
            "colorbar": {
             "outlinewidth": 0,
             "ticks": ""
            },
            "colorscale": [
             [
              0,
              "#0d0887"
             ],
             [
              0.1111111111111111,
              "#46039f"
             ],
             [
              0.2222222222222222,
              "#7201a8"
             ],
             [
              0.3333333333333333,
              "#9c179e"
             ],
             [
              0.4444444444444444,
              "#bd3786"
             ],
             [
              0.5555555555555556,
              "#d8576b"
             ],
             [
              0.6666666666666666,
              "#ed7953"
             ],
             [
              0.7777777777777778,
              "#fb9f3a"
             ],
             [
              0.8888888888888888,
              "#fdca26"
             ],
             [
              1,
              "#f0f921"
             ]
            ],
            "type": "surface"
           }
          ],
          "table": [
           {
            "cells": {
             "fill": {
              "color": "#EBF0F8"
             },
             "line": {
              "color": "white"
             }
            },
            "header": {
             "fill": {
              "color": "#C8D4E3"
             },
             "line": {
              "color": "white"
             }
            },
            "type": "table"
           }
          ]
         },
         "layout": {
          "annotationdefaults": {
           "arrowcolor": "#2a3f5f",
           "arrowhead": 0,
           "arrowwidth": 1
          },
          "autotypenumbers": "strict",
          "coloraxis": {
           "colorbar": {
            "outlinewidth": 0,
            "ticks": ""
           }
          },
          "colorscale": {
           "diverging": [
            [
             0,
             "#8e0152"
            ],
            [
             0.1,
             "#c51b7d"
            ],
            [
             0.2,
             "#de77ae"
            ],
            [
             0.3,
             "#f1b6da"
            ],
            [
             0.4,
             "#fde0ef"
            ],
            [
             0.5,
             "#f7f7f7"
            ],
            [
             0.6,
             "#e6f5d0"
            ],
            [
             0.7,
             "#b8e186"
            ],
            [
             0.8,
             "#7fbc41"
            ],
            [
             0.9,
             "#4d9221"
            ],
            [
             1,
             "#276419"
            ]
           ],
           "sequential": [
            [
             0,
             "#0d0887"
            ],
            [
             0.1111111111111111,
             "#46039f"
            ],
            [
             0.2222222222222222,
             "#7201a8"
            ],
            [
             0.3333333333333333,
             "#9c179e"
            ],
            [
             0.4444444444444444,
             "#bd3786"
            ],
            [
             0.5555555555555556,
             "#d8576b"
            ],
            [
             0.6666666666666666,
             "#ed7953"
            ],
            [
             0.7777777777777778,
             "#fb9f3a"
            ],
            [
             0.8888888888888888,
             "#fdca26"
            ],
            [
             1,
             "#f0f921"
            ]
           ],
           "sequentialminus": [
            [
             0,
             "#0d0887"
            ],
            [
             0.1111111111111111,
             "#46039f"
            ],
            [
             0.2222222222222222,
             "#7201a8"
            ],
            [
             0.3333333333333333,
             "#9c179e"
            ],
            [
             0.4444444444444444,
             "#bd3786"
            ],
            [
             0.5555555555555556,
             "#d8576b"
            ],
            [
             0.6666666666666666,
             "#ed7953"
            ],
            [
             0.7777777777777778,
             "#fb9f3a"
            ],
            [
             0.8888888888888888,
             "#fdca26"
            ],
            [
             1,
             "#f0f921"
            ]
           ]
          },
          "colorway": [
           "#636efa",
           "#EF553B",
           "#00cc96",
           "#ab63fa",
           "#FFA15A",
           "#19d3f3",
           "#FF6692",
           "#B6E880",
           "#FF97FF",
           "#FECB52"
          ],
          "font": {
           "color": "#2a3f5f"
          },
          "geo": {
           "bgcolor": "white",
           "lakecolor": "white",
           "landcolor": "#E5ECF6",
           "showlakes": true,
           "showland": true,
           "subunitcolor": "white"
          },
          "hoverlabel": {
           "align": "left"
          },
          "hovermode": "closest",
          "mapbox": {
           "style": "light"
          },
          "paper_bgcolor": "white",
          "plot_bgcolor": "#E5ECF6",
          "polar": {
           "angularaxis": {
            "gridcolor": "white",
            "linecolor": "white",
            "ticks": ""
           },
           "bgcolor": "#E5ECF6",
           "radialaxis": {
            "gridcolor": "white",
            "linecolor": "white",
            "ticks": ""
           }
          },
          "scene": {
           "xaxis": {
            "backgroundcolor": "#E5ECF6",
            "gridcolor": "white",
            "gridwidth": 2,
            "linecolor": "white",
            "showbackground": true,
            "ticks": "",
            "zerolinecolor": "white"
           },
           "yaxis": {
            "backgroundcolor": "#E5ECF6",
            "gridcolor": "white",
            "gridwidth": 2,
            "linecolor": "white",
            "showbackground": true,
            "ticks": "",
            "zerolinecolor": "white"
           },
           "zaxis": {
            "backgroundcolor": "#E5ECF6",
            "gridcolor": "white",
            "gridwidth": 2,
            "linecolor": "white",
            "showbackground": true,
            "ticks": "",
            "zerolinecolor": "white"
           }
          },
          "shapedefaults": {
           "line": {
            "color": "#2a3f5f"
           }
          },
          "ternary": {
           "aaxis": {
            "gridcolor": "white",
            "linecolor": "white",
            "ticks": ""
           },
           "baxis": {
            "gridcolor": "white",
            "linecolor": "white",
            "ticks": ""
           },
           "bgcolor": "#E5ECF6",
           "caxis": {
            "gridcolor": "white",
            "linecolor": "white",
            "ticks": ""
           }
          },
          "title": {
           "x": 0.05
          },
          "xaxis": {
           "automargin": true,
           "gridcolor": "white",
           "linecolor": "white",
           "ticks": "",
           "title": {
            "standoff": 15
           },
           "zerolinecolor": "white",
           "zerolinewidth": 2
          },
          "yaxis": {
           "automargin": true,
           "gridcolor": "white",
           "linecolor": "white",
           "ticks": "",
           "title": {
            "standoff": 15
           },
           "zerolinecolor": "white",
           "zerolinewidth": 2
          }
         }
        },
        "title": {
         "text": "주간 날짜에 따른 확진자 추이"
        },
        "xaxis": {
         "anchor": "y",
         "domain": [
          0,
          0.94
         ],
         "range": [
          "2020-01-01",
          "2021-07-31"
         ],
         "title": {
          "text": "주간 날짜(x)"
         }
        },
        "yaxis": {
         "anchor": "x",
         "domain": [
          0,
          1
         ],
         "dtick": 1000000,
         "range": [
          9500000,
          14900000
         ],
         "title": {
          "text": "지하철 승하차량(y)"
         }
        },
        "yaxis2": {
         "anchor": "x",
         "dtick": 5000,
         "overlaying": "y",
         "range": [
          0,
          12000
         ],
         "side": "right",
         "title": {
          "text": "코로나 총 확진자(y2)"
         }
        }
       }
      }
     },
     "metadata": {},
     "output_type": "display_data"
    }
   ],
   "source": [
    "# Plotly 라이브러리 사용\n",
    "# from plotly.subplots import make_subplots\n",
    "# import plotly.graph_objects as go\n",
    "\n",
    "fig = go.Figure()\n",
    "fig = make_subplots(specs=[[{'secondary_y': True}]])\n",
    "\n",
    "fig.add_trace(go.Scatter(x=df_week2['date'], y= df_week2['subway'], mode='lines', name ='주간 날짜', line=dict(color='royalblue', width=1)), secondary_y=False)  \n",
    "fig.add_trace(go.Scatter(x=df_week2['date'], y= df_week2['COVID-19'], mode='lines+markers', name ='코로나 확진자'), secondary_y=True) \n",
    "fig.add_trace(go.Scatter(x=df_week2['date'], y= df_week2['COVID-19 KOR'], mode='lines+markers', name ='코로나 총 확진자'), secondary_y=True)\n",
    "\n",
    "# # grid 설정(tick)\n",
    "# fig.update_yaxes(\n",
    "#     dtick=1000000,\n",
    "#     tickvals=[100000, 1000000]\n",
    "# )\n",
    "\n",
    "\n",
    "fig.update_layout(title='주간 날짜에 따른 확진자 추이',\n",
    "                  xaxis_title='주간 날짜(x)',\n",
    "                  yaxis_title='지하철 승하차량(y)',\n",
    "                  yaxis2_title='코로나 총 확진자(y2)',\n",
    "                  \n",
    "                  # 축 range 설정(xaxis, yaxis1 yaxis2)\n",
    "                  xaxis=dict(\n",
    "                             range=['2020-01-01', '2021-07-31']\n",
    "                  ),\n",
    "                  yaxis1=dict(\n",
    "                              range=[9500000, 14900000], dtick=1000000\n",
    "                  ),\n",
    "                  yaxis2=dict(\n",
    "                              range=[0, 12000], dtick=5000 \n",
    "                  ),\n",
    ")\n",
    "\n",
    "fig.show()"
   ]
  },
  {
   "cell_type": "code",
   "execution_count": null,
   "id": "0f9aea87",
   "metadata": {
    "id": "6258c8c8"
   },
   "outputs": [],
   "source": []
  }
 ],
 "metadata": {
  "colab": {
   "collapsed_sections": [],
   "name": "data_preprocessing.ipynb",
   "provenance": []
  },
  "interpreter": {
   "hash": "b3ba2566441a7c06988d0923437866b63cedc61552a5af99d1f4fb67d367b25f"
  },
  "kernelspec": {
   "display_name": "Python 3",
   "language": "python",
   "name": "python3"
  },
  "language_info": {
   "codemirror_mode": {
    "name": "ipython",
    "version": 3
   },
   "file_extension": ".py",
   "mimetype": "text/x-python",
   "name": "python",
   "nbconvert_exporter": "python",
   "pygments_lexer": "ipython3",
   "version": "3.8.8"
  },
  "toc": {
   "base_numbering": 1,
   "nav_menu": {},
   "number_sections": true,
   "sideBar": true,
   "skip_h1_title": false,
   "title_cell": "Table of Contents",
   "title_sidebar": "Contents",
   "toc_cell": false,
   "toc_position": {},
   "toc_section_display": true,
   "toc_window_display": false
  }
 },
 "nbformat": 4,
 "nbformat_minor": 5
}
