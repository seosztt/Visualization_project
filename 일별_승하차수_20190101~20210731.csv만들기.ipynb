{
 "cells": [
  {
   "cell_type": "code",
   "execution_count": 1,
   "id": "5c6dd394",
   "metadata": {},
   "outputs": [],
   "source": [
    "import pandas as pd\n",
    "corona=pd.read_csv('./DATA/서울시 코로나19 확진자 현황.csv')"
   ]
  },
  {
   "cell_type": "code",
   "execution_count": 2,
   "id": "79ae27a7",
   "metadata": {},
   "outputs": [],
   "source": [
    "# 서울시 일일 확진자 데이터 전처리\n",
    "freq = corona.groupby(['date']).count()\n",
    "corona_seoul=freq['����']\n",
    "corona_seoul=corona_seoul.rename('corona')\n",
    "coro_seoul=corona_seoul[73:523]"
   ]
  },
  {
   "cell_type": "code",
   "execution_count": 3,
   "id": "2fb919ae",
   "metadata": {},
   "outputs": [],
   "source": [
    "# 수도권 지하철 일일 승하차 인원 수 데이터 읽기\n",
    "subway_1901=pd.read_csv('./DATA/CARD_SUBWAY_MONTH_201901.csv')\n",
    "subway_1902=pd.read_csv('./DATA/CARD_SUBWAY_MONTH_201902.csv')\n",
    "subway_1903=pd.read_csv('./DATA/CARD_SUBWAY_MONTH_201903.csv')\n",
    "subway_1904=pd.read_csv('./DATA/CARD_SUBWAY_MONTH_201904.csv')\n",
    "subway_1905=pd.read_csv('./DATA/CARD_SUBWAY_MONTH_201905.csv')\n",
    "subway_1906=pd.read_csv('./DATA/CARD_SUBWAY_MONTH_201906.csv')\n",
    "subway_1907=pd.read_csv('./DATA/CARD_SUBWAY_MONTH_201907.csv')\n",
    "subway_1908=pd.read_csv('./DATA/CARD_SUBWAY_MONTH_201908.csv')\n",
    "subway_1909=pd.read_csv('./DATA/CARD_SUBWAY_MONTH_201909.csv')\n",
    "subway_1910=pd.read_csv('./DATA/CARD_SUBWAY_MONTH_201910.csv')\n",
    "subway_1911=pd.read_csv('./DATA/CARD_SUBWAY_MONTH_201911.csv')\n",
    "subway_1912=pd.read_csv('./DATA/CARD_SUBWAY_MONTH_201912.csv')\n",
    "subway_2001=pd.read_csv('./DATA/CARD_SUBWAY_MONTH_202001.csv')\n",
    "subway_2002=pd.read_csv('./DATA/CARD_SUBWAY_MONTH_202002.csv')\n",
    "subway_2003=pd.read_csv('./DATA/CARD_SUBWAY_MONTH_202003.csv')\n",
    "subway_2004=pd.read_csv('./DATA/CARD_SUBWAY_MONTH_202004.csv')\n",
    "subway_2005=pd.read_csv('./DATA/CARD_SUBWAY_MONTH_202005.csv')\n",
    "subway_2006=pd.read_csv('./DATA/CARD_SUBWAY_MONTH_202006.csv')\n",
    "subway_2007=pd.read_csv('./DATA/CARD_SUBWAY_MONTH_202007.csv')\n",
    "subway_2008=pd.read_csv('./DATA/CARD_SUBWAY_MONTH_202008.csv')\n",
    "subway_2009=pd.read_csv('./DATA/CARD_SUBWAY_MONTH_202009.csv')\n",
    "subway_2010=pd.read_csv('./DATA/CARD_SUBWAY_MONTH_202010.csv')\n",
    "subway_2011=pd.read_csv('./DATA/CARD_SUBWAY_MONTH_202011.csv')\n",
    "subway_2012=pd.read_csv('./DATA/CARD_SUBWAY_MONTH_202012.csv')\n",
    "subway_2101=pd.read_csv('./DATA/CARD_SUBWAY_MONTH_202101.csv')\n",
    "subway_2102=pd.read_csv('./DATA/CARD_SUBWAY_MONTH_202102.csv')\n",
    "subway_2103=pd.read_csv('./DATA/CARD_SUBWAY_MONTH_202103.csv')\n",
    "subway_2104=pd.read_csv('./DATA/CARD_SUBWAY_MONTH_202104.csv')\n",
    "subway_2105=pd.read_csv('./DATA/CARD_SUBWAY_MONTH_202105.csv')\n",
    "subway_2106=pd.read_csv('./DATA/CARD_SUBWAY_MONTH_202106.csv')\n",
    "subway_2107=pd.read_csv('./DATA/CARD_SUBWAY_MONTH_202107.csv')"
   ]
  },
  {
   "cell_type": "code",
   "execution_count": 4,
   "id": "f4525c7f",
   "metadata": {},
   "outputs": [],
   "source": [
    "# 수도권 지하철 일일 승하차 인원 수 데이터 전처리\n",
    "subway_total=subway_1901\n",
    "subway_total=subway_total.append(subway_1902)\n",
    "subway_total=subway_total.append(subway_1903)\n",
    "subway_total=subway_total.append(subway_1904)\n",
    "subway_total=subway_total.append(subway_1905)\n",
    "subway_total=subway_total.append(subway_1906)\n",
    "subway_total=subway_total.append(subway_1907)\n",
    "subway_total=subway_total.append(subway_1908)\n",
    "subway_total=subway_total.append(subway_1909)\n",
    "subway_total=subway_total.append(subway_1910)\n",
    "subway_total=subway_total.append(subway_1911)\n",
    "subway_total=subway_total.append(subway_1912)\n",
    "subway_total=subway_total.append(subway_2001)\n",
    "subway_total=subway_total.append(subway_2002)\n",
    "subway_total=subway_total.append(subway_2003)\n",
    "subway_total=subway_total.append(subway_2004)\n",
    "subway_total=subway_total.append(subway_2005)\n",
    "subway_total=subway_total.append(subway_2006)\n",
    "subway_total=subway_total.append(subway_2007)\n",
    "subway_total=subway_total.append(subway_2008)\n",
    "subway_total=subway_total.append(subway_2009)\n",
    "subway_total=subway_total.append(subway_2010)\n",
    "subway_total=subway_total.append(subway_2011)\n",
    "subway_total=subway_total.append(subway_2012)\n",
    "subway_total=subway_total.append(subway_2101)\n",
    "subway_total=subway_total.append(subway_2102)\n",
    "subway_total=subway_total.append(subway_2103)\n",
    "subway_total=subway_total.append(subway_2104)\n",
    "subway_total=subway_total.append(subway_2105)\n",
    "subway_total=subway_total.append(subway_2106)\n",
    "subway_total=subway_total.append(subway_2107)"
   ]
  },
  {
   "cell_type": "code",
   "execution_count": 5,
   "id": "29f3a803",
   "metadata": {},
   "outputs": [],
   "source": [
    "subway= subway_total.groupby(['date']).sum()\n",
    "subway=subway.drop('reg_date', axis=1)\n",
    "subway['total']=subway['on_num']+subway['off_num']"
   ]
  },
  {
   "cell_type": "code",
   "execution_count": 6,
   "id": "2c78b9fc",
   "metadata": {},
   "outputs": [],
   "source": [
    "subway.to_csv('일별_승하차수_20190101~20210731.csv',index=True)"
   ]
  },
  {
   "cell_type": "code",
   "execution_count": null,
   "id": "f4a2b50e",
   "metadata": {},
   "outputs": [],
   "source": []
  }
 ],
 "metadata": {
  "kernelspec": {
   "display_name": "Python 3",
   "language": "python",
   "name": "python3"
  },
  "language_info": {
   "codemirror_mode": {
    "name": "ipython",
    "version": 3
   },
   "file_extension": ".py",
   "mimetype": "text/x-python",
   "name": "python",
   "nbconvert_exporter": "python",
   "pygments_lexer": "ipython3",
   "version": "3.8.8"
  },
  "toc": {
   "base_numbering": 1,
   "nav_menu": {},
   "number_sections": true,
   "sideBar": true,
   "skip_h1_title": false,
   "title_cell": "Table of Contents",
   "title_sidebar": "Contents",
   "toc_cell": false,
   "toc_position": {},
   "toc_section_display": true,
   "toc_window_display": false
  }
 },
 "nbformat": 4,
 "nbformat_minor": 5
}
