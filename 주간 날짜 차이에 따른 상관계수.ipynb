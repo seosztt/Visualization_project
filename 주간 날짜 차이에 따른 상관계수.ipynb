{
 "cells": [
  {
   "cell_type": "code",
   "execution_count": null,
   "id": "393054a8",
   "metadata": {},
   "outputs": [],
   "source": [
    "#주간 확진자수와 주간 전철이용자 수의 상관계수\n",
    "from pandas import DataFrame\n",
    "raw_data = {'coroweeks': coroweeks,\n",
    "            'subweeks': subweeks_20200508}\n",
    "freq=DataFrame(raw_data)\n",
    "corr_cs=freq.corr()\n",
    "round(corr_cs['coroweeks'][1],3)"
   ]
  },
  {
   "cell_type": "code",
   "execution_count": null,
   "id": "45a8c103",
   "metadata": {},
   "outputs": [],
   "source": [
    "# 시간 차이(일주일 단위)에 따른 주간 확진자수와 주간 전철이용자 수의 상관계수\n",
    "mpl.rcParams['axes.unicode_minus'] = False\n",
    "\n",
    "# 20200508에서 14주 전인 20200131부터의 지하철 승객 수 추출\n",
    "subway_20200131=subway[395:]\n",
    "subweeks_20200131=[]\n",
    "for i in range(0,546,7):\n",
    "    temp=subway_20200131['total'][i:i+7].sum()\n",
    "    subweeks_20200131.append(temp)\n",
    "\n",
    "# 14주 까지 시간 차이를 보기 위해 주간 확진자 수 데이터 64개 중 50개 추출\n",
    "import numpy as np\n",
    "corr_coroweeks=coroweeks[:50]\n",
    "corr_weekshift=[]\n",
    "for i in range(28):\n",
    "    corr_weekshift.append(np.corrcoef(subweeks_20200131[i:i+50], corr_coroweeks)[0][1])\n",
    "\n",
    "# 4주 까지 시간 차이를 보기 위해 주간 확진자 수 데이터 64개 중 60개 추출\n",
    "corr_coroweeks2=coroweeks[:60]\n",
    "corr_weekshift2=[]\n",
    "for i in range(8):\n",
    "    corr_weekshift2.append(np.corrcoef(subweeks_20200131[i+10:i+70], corr_coroweeks2)[0][1])"
   ]
  },
  {
   "cell_type": "code",
   "execution_count": null,
   "id": "b8fd9902",
   "metadata": {},
   "outputs": [],
   "source": [
    "plt.title('시간 차이(일주일 단위)에 따른 주간 확진자(기간: 50주)와 지하철 이용객 수의 상관계수 변화', size=26)\n",
    "plt.xlabel('week_shift')\n",
    "plt.ylabel('상관계수')\n",
    "plt.plot(range(-14,14),corr_weekshift)"
   ]
  },
  {
   "cell_type": "code",
   "execution_count": null,
   "id": "cf9053a9",
   "metadata": {},
   "outputs": [],
   "source": [
    "plt.title('시간 차이(일주일 단위)에 따른 주간(기간: 60주) 확진자와 지하철 이용객 수의 상관계수 변화', size=26)\n",
    "plt.xlabel('week_shift')\n",
    "plt.ylabel('상관계수')\n",
    "plt.plot(range(-4,4), corr_weekshift2)"
   ]
  },
  {
   "cell_type": "code",
   "execution_count": null,
   "id": "0a338297",
   "metadata": {},
   "outputs": [],
   "source": [
    "# 날짜 변동에 따른 확진자 수와 탑승객 간의 상관관계 시각화\n",
    "%matplotlib inline\n",
    "import matplotlib as mpl\n",
    "import matplotlib.pyplot as plt\n",
    "plt.figure(figsize=(14,6))\n",
    "plt.rc('font', family='Malgun Gothic')\n",
    "plt.rc('axes', unicode_minus=False)\n",
    "plt.title('날짜 변동에 따른 확진자 수와 지하철 탑승객 수 사이의 상관관계')\n",
    "plt.xlabel('date_shift')\n",
    "plt.ylabel('corr')\n",
    "plt.plot(x,corr_list)"
   ]
  }
 ],
 "metadata": {
  "kernelspec": {
   "display_name": "Python 3",
   "language": "python",
   "name": "python3"
  },
  "language_info": {
   "codemirror_mode": {
    "name": "ipython",
    "version": 3
   },
   "file_extension": ".py",
   "mimetype": "text/x-python",
   "name": "python",
   "nbconvert_exporter": "python",
   "pygments_lexer": "ipython3",
   "version": "3.8.8"
  },
  "toc": {
   "base_numbering": 1,
   "nav_menu": {},
   "number_sections": true,
   "sideBar": true,
   "skip_h1_title": false,
   "title_cell": "Table of Contents",
   "title_sidebar": "Contents",
   "toc_cell": false,
   "toc_position": {},
   "toc_section_display": true,
   "toc_window_display": false
  }
 },
 "nbformat": 4,
 "nbformat_minor": 5
}
